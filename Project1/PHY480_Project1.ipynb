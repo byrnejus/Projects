{
 "cells": [
  {
   "cell_type": "markdown",
   "metadata": {},
   "source": [
    "# Project 1: One-Dimenstional Poisson Equation\n",
    "### Robert Sutherland, Computational Physics (PHY480), Michigan State University"
   ]
  },
  {
   "cell_type": "markdown",
   "metadata": {
    "collapsed": true
   },
   "source": [
    "Note:  The first part of this notebook is a summary of the problem statement.  It is largely a reflection of material covered by the lectures or by the notes and were created solely for my own benefit.  I begin answering the questions in the Theory section.  You can use the table of contents below to jump to any given section.  Also, the first attempt can be ignored as I was unsuccessful.  I left it in the report because it was a good learning experience for me.  Sections that should be relevant for grading are marked with an asterix (*)."
   ]
  },
  {
   "cell_type": "markdown",
   "metadata": {},
   "source": [
    "## Table of Contents\n",
    "\n",
    "[1. Problem Statement](#cell1)\n",
    "\n",
    "[2. Preliminary Theory](#cell2)\n",
    "\n",
    "[3. Analytical Solution *](#cell7)\n",
    "\n",
    "[4. Solution Attempt 1 (Unsuccessful)](#cell3)\n",
    "\n",
    "[5. Program Attempt 1 (Unsuccessful)](#cell4)\n",
    "\n",
    "[6. Solution Attempt 2 (Successful) *](#cell5)\n",
    "\n",
    "[7. Program Attempt 2 (Successful) *](#cell6)\n",
    "\n",
    "[8. LU Decomposition *](#cell6)\n",
    "\n",
    "[9. Disscussion *](#cell9)"
   ]
  },
  {
   "cell_type": "markdown",
   "metadata": {},
   "source": [
    "<a id=\"cell1\"></a>\n",
    "$\\underline{\\large{\\textbf{Problem Statement:}}}$\n",
    "\n",
    "###### Poisson's Equation\n",
    "The most general expression for Poisson's Equation takes the following form:\n",
    "\n",
    "\n",
    "\\begin{equation}\n",
    "\\nabla^2\\varphi = f \\hspace{1.5cm}(1.1)\n",
    "\\end{equation}\n",
    "\n",
    "\n",
    "The generality of eq.(1.1) makes it a powerful tool.  Of the systems which can be described by Poisson's equation, the most notable to the undergraduate in physics is almost certainly that of a spherically symmetrical charge distribution.       \n",
    "\n",
    "###### Case: Spherically Symmetric Charge Distribution\n",
    "We can use Poisson's equation to succinctly describe the electric potential ($\\Phi$) due to an arbitrary charge distribution.\n",
    "\n",
    "\\begin{equation}\n",
    "\\varphi\\rightarrow\\Phi\\hspace{1cm}\\&\\hspace{1cm}f \\rightarrow -4\\pi\\rho(r) \\\\\n",
    "\\nabla^2\\Phi = -4\\pi\\rho(r)\\hspace{1.5cm}(1.2)\n",
    "\\end{equation}\n",
    "\n",
    "For a system with spherical symmetry you cannot tell the difference between any two points at a given distance $r$ from the origin.  Mathematically this implies that your model must carry no angular dependence.  Under these conditions the Laplacian operator ($\\nabla^2$) in eq.(1.2) simplifies considerably.  The angular derivatives are trivially zero and the partial in $r$ becoming an ordinary derivative.  Poisson's equation takes the following form.\n",
    "\n",
    "\\begin{equation}\n",
    "\\frac{1}{r^2}\\frac{d}{dr}(r^2\\frac{d\\Phi}{dr}) = -4\\pi\\rho(r)\\hspace{1.5cm}(1.3) \n",
    "\\end{equation}\n",
    "\n",
    "A substitution of $\\Phi(r)=\\phi(r)/r$ cleans up eq.(1.3).\n",
    "\n",
    "\\begin{equation}\n",
    "\\frac{d^2\\phi}{dr^2} = -4\\pi r\\rho(r)\\hspace{1.5cm}(1.4)\n",
    "\\end{equation}\n",
    "\n",
    "###### Reclaiming Generality\n",
    "By sending $\\phi\\rightarrow u$ and $r\\rightarrow x$ we make a return to generality.\n",
    "\n",
    "\\begin{equation}\n",
    "-u''(x)=f(x)\\hspace{1.5cm}(1.5)\n",
    "\\end{equation}"
   ]
  },
  {
   "cell_type": "markdown",
   "metadata": {},
   "source": [
    "<a id=\"cell2\"></a>\n",
    "$\\underline{\\large{\\textbf{Preliminary Theory:}}}$\n",
    "\n",
    "###### Translating the problem\n",
    "The first step to a computer generated solution is translating eq.(1.5) into a format which the computer is apt to solve.  Computers cannot handle differential equations analytically as a human being does.  Instead we must take the problem from a differential equation to a $\\textit{difference}$ equation.  A difference equation works in descrete space and accurately approximated its differential counter part if the quantization of that space is sufficiently small.  This idea can be grasped firmly by careful examination of the definition of the derivative.\n",
    "\n",
    "\\begin{equation}\n",
    "\\frac{df(x)}{dx} = \\lim_{h\\to 0} \\frac{f(x+h)-f(x)}{h}\\hspace{1.5cm}(2.1)\n",
    "\\end{equation}\n",
    "\n",
    "Finding the derivative analytically is more an act of imagination than one of computation.  A machine is not able to observe a tendency and extrapolate the solution for the case where h actually attains an infintesimal magnitude.  Thus we must seek an approximation which tends toward the exact result for sufficiently small $h$.\n",
    "\n",
    "In building our approximation we can again take some inspiration from basic calculus.  Before a students learns to take an integral in continuous space they first learn to operate in descrete space using Riemann sums to find the area under the curve.  In this process there are both the lower and upper Riemann sums and the best result is found by taking their average.  Similarily we will approximate the derivative from two different directions and take our final approximation to be a combination of the two resultant formulae.      \n",
    "\n",
    "We begin with the general formula for a taylor expansion.\n",
    "\n",
    "\\begin{equation}\n",
    "f(x) = \\sum_{n=0}^{\\infty} \\frac{f^{(n)}(x_0)}{n!}(x-x_0)^n\\hspace{1.5cm}(2.2)\n",
    "\\end{equation}\n",
    "\n",
    "We expand $f(x)$ a distance $\\pm h$ about $x_0=0$ to obtain two different expansions for f(x).  I will call the expansion with $+h$ the top expansion and the expansion with $-h$ the bottom expansion.  We carry our expansions out to the $3^{rd}$ order terms.\n",
    "\n",
    "\\begin{equation}\n",
    "f_{h_+} \\approx f_0 + hf' + \\frac{h^2f''}{2} + \\frac{h^3f'''}{6} \\hspace{1.5cm}(2.3)\\\\\n",
    "f_{h_-} \\approx f_0 - hf' + \\frac{h^2f''}{2} - \\frac{h^3f'''}{6} \\hspace{1.5cm}(2.4)\n",
    "\\end{equation}\n",
    "\n",
    "Taking the sum of eq.(2.3) & eq.(2.4) and solving for f'' leads to an expression which can approximate the second derivative.\n",
    "\n",
    "\\begin{equation}\n",
    "f'' \\approx \\frac{f_{h_+} + f_{h_-} - 2f_0}{h^2} \\hspace{1.5cm}(2.5)\n",
    "\\end{equation}\n",
    "\n",
    "Finally we are ready to reconsider eq.(1.5).  We restrict the domain of our solutions to $x\\in (0,1)$ with initial conditions $u(0) = u(1) = 0$.  Next we seek to restate eq.(1.5) as a matrix.  We quantize the space on the interval $(0,1)$ using $h = 1/(n+1)$ (where n is the number of steps) and $x_i = ih$ with $x_0=0$ and $x_{n+1}=1$. Construct a vector $\\vec{v}$ to represent a descrete approximation to $u$.  The given boundary conditions give us $v_0 = v_{n+1} = 0$   We can use equation 2.5 to approximate u''(x) and rewrite eq.(1) with $f_i = f(x_i)$ where $f(x_i)$ represents the source function evaluated at $x_i$.\n",
    "\n",
    "\\begin{equation}\n",
    "f_i = \\frac{2v_i - v_{i+1} - v_{i-1}}{h^2} \\hspace{1.5cm}(2.6)\n",
    "\\end{equation}\n",
    "\n",
    "The matrix representation will look something like this with $\\widetilde{b_i}=h^2f_i$.\n",
    "\n",
    "\\begin{equation}\n",
    "\\textbf{A}\\vec{v}=\\widetilde{b}\\hspace{1.5cm}(2.7)\n",
    "\\end{equation}\n",
    "\n",
    "The form of matrix $\\textbf{A}$ can be deduced from eq.(2.6).  Vector $\\vec{v}$ has elements $v_i[v_0,v_{n+1}]$.  For any given element $\\widetilde{b_i}$, $\\textbf{A}$ must pick out only the corresponding elements $v_{i+1}$, $v_i$, and $v_{i-1}$.  This immediately suggests that $\\textbf{A}$ must be a tridiagonal matrix.  The diagonal elements will pick out $v_0$ and must contain a factor of 2.  The elements $v_{i-1}$ and $v_{i+1}$ on either side of the diagonal must have factors of -1. This means that $\\textbf{A}$ takes the form below.\n",
    "\n",
    "\\begin{bmatrix}\n",
    "2  & -1 & 0  & 0 & ... & ... & 0 \\\\\n",
    "-1 &  2 & -1 & 0 & ... & ... & 0 \\\\\n",
    "0  & -1 &  2 & -1& ... & ... & 0 \\\\\n",
    "...& ...& ...&...& ... & ... & 0 \\\\\n",
    "...& ...& ...&...&  -1 &  2  & -1\n",
    "\\end{bmatrix}\n",
    "\n",
    "For our problem we will let $f(x)=100e^{(-10x)}$.  We have made this choice so that eq.(1.5) can be solved analytically.  We will make use of the analytical solution to evaluate the accuracy of our computational methods.  With this source term eq.(1.5) has a solution of the form $u(x)=1-(1-e^{-10})x-e^{-10x}$.  This solution can be verified by taking two derivatives and making a substitution into eq.(1.5).\n",
    "\n",
    "\\begin{equation}\n",
    "u(x)=1-(1-e^{-10})x-e^{-10x} \\\\\n",
    "u'(x)=1-e^(-10)+10e^{-10x} \\\\\n",
    "u''(x)=-100e^{-10x} \\\\\n",
    "-u''(x) = 100e^{-10x} = f(x)\n",
    "\\end{equation}"
   ]
  },
  {
   "cell_type": "markdown",
   "metadata": {},
   "source": [
    "<a id=\"cell7\"></a>\n",
    "###### Analytical Solution"
   ]
  },
  {
   "cell_type": "code",
   "execution_count": 1,
   "metadata": {
    "collapsed": false
   },
   "outputs": [
    {
     "name": "stdout",
     "output_type": "stream",
     "text": [
      "Elapsed time: 0.0007901191711425781 seconds\n"
     ]
    },
    {
     "data": {
      "text/plain": [
       "[<matplotlib.lines.Line2D at 0x106890c18>]"
      ]
     },
     "execution_count": 1,
     "metadata": {},
     "output_type": "execute_result"
    },
    {
     "data": {
      "image/png": "[encoded data removed]",
      "text/plain": [
       "<matplotlib.figure.Figure at 0x1041f7208>"
      ]
     },
     "metadata": {},
     "output_type": "display_data"
    }
   ],
   "source": [
    "#timer\n",
    "import time\n",
    "start_time_sol = time.time()\n",
    "from array import *\n",
    "import math\n",
    "Sol = array('f');X_sol = array('f') \n",
    "n_sol=100;h = (1)/(n_sol+1);x = 0\n",
    "def u(x_i):\n",
    "    u = 1 - (1 - math.exp(-10))*x_i - math.exp(-10*x_i)\n",
    "    return u;\n",
    "i=0\n",
    "while (x < 1+h):X_sol.append(x);Sol.append(u(x));x = x + h;i=i+1\n",
    "#print(\"Initial Point:\", Sol[1]); #Initial Point\n",
    "print(\"Elapsed time: %s seconds\" % (time.time() - start_time_sol))\n",
    "    \n",
    "#Plotting\n",
    "from pylab import *\n",
    "%matplotlib inline\n",
    "xlabel(\"x\")\n",
    "ylabel(\"Analytical u(x)\")\n",
    "axes = plt.gca()\n",
    "axes.set_xlim([0,1])\n",
    "axes.set_ylim([0,0.7])\n",
    "title(\"Analytical Solution\")\n",
    "plot(X_sol,Sol,color='green')"
   ]
  },
  {
   "cell_type": "markdown",
   "metadata": {
    "collapsed": true
   },
   "source": [
    "<a id=\"cell3\"></a>\n",
    "$\\underline{\\large{\\textbf{Solution Attempt 1:}}}$\n",
    "\n",
    "The matrix form of Poisson's equation gives us a series of linear equations of the form\n",
    "\n",
    "\\begin{equation}\n",
    "a_iv_{i-1} + b_iv_{i} + c_iv_{i+1} = \\widetilde{b_i} \\hspace{1.5cm}(3.1)\n",
    "\\end{equation}\n",
    "\n",
    "With $a_i = -1$, $b_i = 2$, and $c_i = -1$.\n",
    "\n",
    "For $i=1$:\n",
    "\n",
    "If we can seed the algorithm with an initial point from the analytical solution we can locate all subsequent points.\n",
    "\n",
    "For $i=2,3,4,5...$:\n",
    "\n",
    "\\begin{align*}\n",
    "I. \\hspace{1.5cm} & a_{i}v_{i-1} + b_{i}v_{i} + c_{i}v_{i+1} = \\widetilde{b_i} \\\\\\\\\n",
    "II. \\hspace{1.5cm} & v_{i+1} = \\frac{\\widetilde{b_i} - a_iv_{i-1} - b_iv_i}{c_i} \\\\\\\\\n",
    "III. \\hspace{1.5cm} & \\widetilde{b_i} = h^2f(x_i) = h^2*100e^{(-10x_i)} \\\\\\\\\n",
    "VI. \\hspace{1.5cm} & v_{i+1} = \\frac{h^2*100e^{(-10x_i)} - a_iv_{i-1} - b_iv_i}{c_i}\n",
    "\\end{align*}\n",
    "\n",
    "Using the initial conditions to determine $v_0$ and the elements of $\\widetilde{b}$ can be gathered from the source function.  We can then iterate the algorithm above to calculate the rest of the elements in $\\vec{v}$.\n",
    "\n",
    "###### Floating Point Operations\n",
    "As it is stated above the algorithm that I have written includes 13 FLOPS per step.  However it can be noted that if I let $\\widetilde{b_i} = f(x)$ instead of $\\widetilde{b_i} = h^2f(x)$  I can cut two of the floating point operations out of my algorithm.  This of course means that the elements of matrix $\\textbf{A}$ will all need to be divided by $h^2$ so that they will now be $a_i = \\frac{-1}{h^2}$, $\\widetilde{b_i} = \\frac{2}{h^2}$, and $c_i = \\frac{-1}{h^2}$.\n",
    "\n",
    "At 11 FLOPS per step with a total number of n steps the total number of FLOPS in the alogorithm is given by 11n. "
   ]
  },
  {
   "cell_type": "markdown",
   "metadata": {},
   "source": [
    "<a id=\"cell4\"></a>\n",
    "$\\underline{\\large{\\textbf{Program Attempt 1:}}}$\n",
    "\n",
    "###### Python Array Syntax\n",
    "Strangely the array data type is not a native in python.  We have to import the array type in externally.\n",
    "For a quick reference on python array syntax you can check this link:\n",
    "http://www.thegeekstuff.com/2013/08/python-array/\n",
    "\n",
    "###### Lightweight vs. Generality\n",
    "The program I am writing below opts for a lightweight approach to the solution.  Because the rows of matrix A contain only three nonzero elements (regardless of the matrix size) I use the array A containing only three elements\n",
    "A[0] = -1; A[1] = 2; A[2] = -1.  This makes the program fast and easy, but means that it is apt to solve only this special case.   \n",
    "\n",
    "###### Things to Consider\n",
    "The end points (the boundary conditions) cannot be included in the algorithm.  The source point must essentially be guessed.  This is a pretty weak algorithm since it requires so much input information, but still making the program was a good excercize and so I am including it in the report.\n",
    "\n",
    "In reality we will not be able to simply pluck a point from the analytical solution, so the logic here is a little circular.  However, in principle if we know the general form of the solution we could iterate guesses for an initial point until we get a solution that \"looks right.\""
   ]
  },
  {
   "cell_type": "markdown",
   "metadata": {},
   "source": [
    "###### My Code for Attempt 1"
   ]
  },
  {
   "cell_type": "code",
   "execution_count": 2,
   "metadata": {
    "collapsed": false
   },
   "outputs": [
    {
     "name": "stdout",
     "output_type": "stream",
     "text": [
      "Elapsed time: 0.0010449886322021484 seconds\n"
     ]
    },
    {
     "data": {
      "text/plain": [
       "[<matplotlib.lines.Line2D at 0x106a7e6a0>]"
      ]
     },
     "execution_count": 2,
     "metadata": {},
     "output_type": "execute_result"
    },
    {
     "data": {
      "image/png": "[encoded data removed]",
      "text/plain": [
       "<matplotlib.figure.Figure at 0x10689d4e0>"
      ]
     },
     "metadata": {},
     "output_type": "display_data"
    }
   ],
   "source": [
    "'''\n",
    "Attempt 1: MUST RUN CHECK YOUR WORK FIRST\n",
    "Solve the one-dimensional Poisson equation -u''(x) = f(x)\n",
    "Where f(x) is the source function.  f(x) = 100*exp(-10x).\n",
    "This gives Poisson's equation an analytical solution: u(x) = 1 - (1-exp(-10))x - exp(-10x)\n",
    "We translate Poisson's equation into matrix form and attempt a solution in discrete space.\n",
    "For our first attempt we solve the problem using the algorithm above for a 10X10 matrix.\n",
    "'''\n",
    "#Error Checking\n",
    "try:\n",
    "    n_sol\n",
    "except NameError:\n",
    "    print(\"MUST RUN ANALYTICAL SOLUTION SECTION FIRST\")\n",
    "    raise SystemExit\n",
    "\n",
    "#timer\n",
    "import time\n",
    "start_time_at1 = time.time()\n",
    "\n",
    "#Import the array module  \n",
    "from array import *\n",
    "import math \n",
    "\n",
    "#Initial Conditions\n",
    "x_0 = 0.0;x_f = 1.0\n",
    "v_0 = 0\n",
    "\n",
    "#Step number n & Stepsize h\n",
    "n=n_sol #step number must be equal between the two blocks of code.\n",
    "h = (x_f - x_0)/(n+1)\n",
    "\n",
    "#Matrix A array\n",
    "A = array('f',[-1/h**2,2/h**2,-1/h**2])\n",
    "#Spacial array\n",
    "X_t1 = array('f',[x_0])\n",
    "#Vector v array\n",
    "v_t1 = array('f',[v_0])\n",
    "\n",
    "#I have omitted the i=1 step from the while loop and placed it here.\n",
    "x = x_0 + h\n",
    "X_t1.append(x_0 + h)\n",
    "#Seed the algorithm by taking a point from the analytical solution.\n",
    "v_t1.append(Sol[1])\n",
    "i = 1\n",
    "\n",
    "#Setting the while loop bounds up to x_f + h because it takes the final output x-value closer to 1.0.\n",
    "while (x < x_f+h):\n",
    "    v_t1.append((100*math.exp(-10*x)-A[0]*v_t1[i-1]-A[1]*v_t1[i])/A[2])\n",
    "    X_t1.append(x)\n",
    "    x = x + h\n",
    "    i = i + 1\n",
    "\n",
    "#Known final value at x=1 from boundary conditions.    \n",
    "v_t1.append(0)\n",
    "X_t1.append(1)\n",
    "\n",
    "print(\"Elapsed time: %s seconds\" % (time.time() - start_time_at1))\n",
    "\n",
    "#Plotting\n",
    "from pylab import *\n",
    "%matplotlib inline\n",
    "xlabel(\"x\")\n",
    "ylabel(\"Algorithmic u(x)\")\n",
    "axes = plt.gca()\n",
    "axes.set_xlim([0,1])\n",
    "axes.set_ylim([0,0.7])\n",
    "title(\"Attempt 1\")\n",
    "plot(X_t1,v_t1,color='purple')"
   ]
  },
  {
   "cell_type": "markdown",
   "metadata": {
    "collapsed": true
   },
   "source": [
    "<a id=\"cell5\"></a>\n",
    "$\\underline{\\large{\\textbf{Solution Attempt 2:}}}$\n",
    "\n",
    "We will first transform the matrix elements with a forward substitution and then use a backwards substitution to get the results.  The transformed matrix elements are capped with a tilda (~).  We will represent our matrix $\\textbf{A}$ as follows\n",
    "\n",
    "\\begin{bmatrix}\n",
    "d_1  & e_1 & 0  & 0 & ... & ... & 0 \\\\\n",
    "e_1 &  d_2 & e_2 & 0 & ... & ... & 0 \\\\\n",
    "0  & e_2 &  d_3 & e_3& ... & ... & 0 \\\\\n",
    "...& ...& ...&...& ... & ... & 0 \\\\\n",
    "...& ...& ...&...&  0 &  e_{n-1}  & d_n\n",
    "\\end{bmatrix}\n",
    "\n",
    "For i = 1:\n",
    "\n",
    "\\begin{align*}\n",
    "I. d_1 = \\widetilde{d_1} \\\\\\\\\n",
    "II. b = \\widetilde{b_1}\n",
    "\\end{align*}\n",
    "\n",
    "For i = 2,3,4....\n",
    "\n",
    "\\begin{align*}\n",
    "I. \\widetilde{d_i} = d_i - \\frac{e_{i-1}^2}{\\widetilde{d_{i-1}}} \\\\\\\\\n",
    "II. \\widetilde{b_i} = b_i - \\widetilde{b_{i-1}}\\frac{e_{i-1}}{\\widetilde{d_{i-1}}}\n",
    "\\end{align*}\n",
    "\n",
    "After transformation our matrix will look like this\n",
    "\n",
    "\\begin{bmatrix}\n",
    "d_1  & e_1 & 0  & 0 & ... & ... & 0 \\\\\n",
    "0 &  \\widetilde{d_2} & e_2 & 0 & ... & ... & 0 \\\\\n",
    "0  & 0 &  \\widetilde{d_3} & e_3& ... & ... & 0 \\\\\n",
    "...& ...& ...&...& ... & ... & 0 \\\\\n",
    "...& ...& ...&...&  0 &  0  & \\widetilde{d_n}\n",
    "\\end{bmatrix}\n",
    "\n",
    "The nth row gives us the equation \n",
    "\n",
    "\\begin{equation}\n",
    "\\widetilde{d_n}x_n = \\widetilde{b_4}\n",
    "\\end{equation}\n",
    "\n",
    "Which can easily be solved for the nth element of vector x.\n",
    "\n",
    "\\begin{equation}\n",
    "x_n = \\frac{\\widetilde{b_4}}{\\widetilde{d_n}}\n",
    "\\end{equation}\n",
    "\n",
    "Now we can begin the back substitution and find every other element in x with the following formula.\n",
    "\n",
    "\\begin{equation}\n",
    "x_i = \\frac{\\widetilde{b_i}-e_ix_{i+1}}{\\widetilde{d_i}}\n",
    "\\end{equation}"
   ]
  },
  {
   "cell_type": "markdown",
   "metadata": {},
   "source": [
    "<a id=\"cell6\"></a>\n",
    "$\\underline{\\large{\\textbf{Program Attempt 2:}}}$\n",
    "\n",
    "Implementing the algorithm from class as described above."
   ]
  },
  {
   "cell_type": "code",
   "execution_count": 3,
   "metadata": {
    "collapsed": false
   },
   "outputs": [
    {
     "name": "stdout",
     "output_type": "stream",
     "text": [
      "Elapsed time algorithm: 0.0011761188507080078 seconds\n",
      "Elapsed time total: 0.0019478797912597656 seconds\n"
     ]
    },
    {
     "data": {
      "text/plain": [
       "[<matplotlib.lines.Line2D at 0x106cbf358>]"
      ]
     },
     "execution_count": 3,
     "metadata": {},
     "output_type": "execute_result"
    },
    {
     "data": {
      "image/png": "[encoded data removed]",
      "text/plain": [
       "<matplotlib.figure.Figure at 0x106a7ef60>"
      ]
     },
     "metadata": {},
     "output_type": "display_data"
    }
   ],
   "source": [
    "'''\n",
    "Attempt 2\n",
    "Solve the one-dimensional Poisson equation -u''(x) = f(x)\n",
    "Where f(x) is the source function.  f(x) = 100*exp(-10x).\n",
    "This gives Poisson's equation an analytical solution: u(x) = 1 - (1-exp(-10))x - exp(-10x)\n",
    "We translate Poisson's equation into matrix form and attempt a solution in discrete space.\n",
    "For our first attempt we solve the problem using the algorithm above for a 10X10 matrix.\n",
    "'''\n",
    "#timer\n",
    "import time\n",
    "start_time_at2_total = time.time()\n",
    "\n",
    "#Import the array module  \n",
    "from array import *\n",
    "import math \n",
    "\n",
    "#Bounds, Step number n & Stepsize h\n",
    "x_0 = 0.0;x_f = 1.0\n",
    "n=100\n",
    "h = (x_f - x_0)/(n+1)\n",
    "#Initial Point\n",
    "x = x_0 + h\n",
    "\n",
    "'''\n",
    "Summary of Notation:\n",
    "d = diagonal elements of A\n",
    "e = off diagonal elements of A\n",
    "b = vector b\n",
    "'''\n",
    "d = array('d',[2])\n",
    "e = array('d',[-1])\n",
    "b = array('d',[h*h*100*math.exp(-10*x)])\n",
    "while (x < x_f - h):\n",
    "    d.append(2)\n",
    "    e.append(-1)\n",
    "    x = x + h\n",
    "    b.append(h*h*100*math.exp(-10*x)) \n",
    "\n",
    "#Algorithm timer\n",
    "start_time_at2_algorithm = time.time()\n",
    "'''\n",
    "Summary of Notation:\n",
    "D = d tilda\n",
    "B = b tilda\n",
    "i = array index\n",
    "'''\n",
    "#Forward Substitution\n",
    "x = x_0 + h\n",
    "D = array('d',[d[0]])\n",
    "B = array('d',[b[0]])\n",
    "i = 1\n",
    "while (x < x_f - h):\n",
    "    D.append(d[i]-e[i-1]**2/D[i-1])\n",
    "    B.append(b[i]-e[i-1]*B[i-1]/D[i-1])\n",
    "    i = i + 1\n",
    "    x = x + h\n",
    "\n",
    "#free up some memeory\n",
    "del d,b\n",
    "\n",
    "i = i - 1\n",
    "#Backwards Substitution\n",
    "X_algorithm = array('d',[0,B[-1]/D[-1]])\n",
    "x_coor = array('d',[1,x]) #for plotting later\n",
    "j=1 #Keeps track of the index of x which runs backwards with respect to i\n",
    "while (x >= x_0 + h):\n",
    "    X_algorithm.append((B[i]-e[i]*X_algorithm[j])/D[i])\n",
    "    #Free up memory as we go along\n",
    "    B.pop();D.pop()\n",
    "    i = i - 1\n",
    "    j = j + 1\n",
    "    x = x - h\n",
    "    x_coor.append(x)\n",
    "\n",
    "#Boundary Values\n",
    "X_algorithm.append(0)\n",
    "x_coor.append(0)\n",
    "print(\"Elapsed time algorithm: %s seconds\" % (time.time() - start_time_at2_algorithm))\n",
    "print(\"Elapsed time total: %s seconds\" % (time.time() - start_time_at2_total))\n",
    "\n",
    "#Plotting\n",
    "from pylab import *\n",
    "%matplotlib inline\n",
    "xlabel(\"x\")\n",
    "ylabel(\"Algorithmic u(x)\")\n",
    "axes = plt.gca()\n",
    "axes.set_xlim([0,1])\n",
    "axes.set_ylim([0,0.7])\n",
    "title(\"Algorithm From Lecture\")\n",
    "plot(x_coor,X_algorithm,color='blue')"
   ]
  },
  {
   "cell_type": "markdown",
   "metadata": {
    "collapsed": true
   },
   "source": [
    "<a id=\"cell8\"></a>\n",
    "$\\underline{\\large{\\textbf{LU Decomposition:}}}$\n",
    "\n",
    "Solve the problem by LU decomposition using python libraries and compare with your results from the previous section.  To do this we must take the full approach and generate matrix $\\textbf{A}$ and vector $\\vec{b}$.  "
   ]
  },
  {
   "cell_type": "code",
   "execution_count": 5,
   "metadata": {
    "collapsed": false
   },
   "outputs": [
    {
     "name": "stdout",
     "output_type": "stream",
     "text": [
      "LU solve time: 0.0010478496551513672 seconds\n",
      "Total Elapsed time: 0.007788896560668945 seconds\n"
     ]
    },
    {
     "data": {
      "text/plain": [
       "[<matplotlib.lines.Line2D at 0x10702bef0>]"
      ]
     },
     "execution_count": 5,
     "metadata": {},
     "output_type": "execute_result"
    },
    {
     "data": {
      "image/png": "[encoded data removed]",
      "text/plain": [
       "<matplotlib.figure.Figure at 0x1068ac160>"
      ]
     },
     "metadata": {},
     "output_type": "display_data"
    }
   ],
   "source": [
    "#BUG: If you change step size you need to run the code twice before it works\n",
    "from pylab import *\n",
    "import numpy as np\n",
    "#timer\n",
    "import time\n",
    "start_time_LU_total = time.time()\n",
    "\n",
    "x_0 = 0.0;x_f = 1.0\n",
    "n=100\n",
    "h = (x_f - x_0)/(n+1)\n",
    "\n",
    "#Create the Matrix A\n",
    "A_row1 = np.empty([n]);A_row1[0] = 2;A_row1[1] = -1;\n",
    "i = 2\n",
    "while(i<=n-1):A_row1[i] = 0;i = i+1\n",
    "A_row2 = np.empty([n]);A_row2[0] = -1;A_row2[1] = 2;A_row2[2] = -1\n",
    "i = 3\n",
    "while(i<=n-1):A_row2[i] = 0;i = i+1    \n",
    "\n",
    "A = np.vstack((A_row1,A_row2))\n",
    "\n",
    "i = 1\n",
    "while (i<=n-3):A_row2=np.roll(A_row2,1);A=np.vstack((A,A_row2));i=i+1\n",
    "\n",
    "#Deals with the wrap around from np.roll\n",
    "A_last=np.roll(A_row2,1);A_last[0]=0\n",
    "A=np.vstack((A,A_last))\n",
    "\n",
    "#Create space vector X\n",
    "X_coor = np.empty([n])\n",
    "#Create the Vector b\n",
    "b = np.empty([n])\n",
    "x = x_0 + h\n",
    "i=0\n",
    "while (x < x_f-h):\n",
    "    b[i] = h*h*100*math.exp(-10*x)\n",
    "    X_coor[i] = x\n",
    "    x = x + h\n",
    "    i = i+1\n",
    "\n",
    "#Timer for LU decomposition    \n",
    "start_time_LU = time.time()\n",
    "#Solve the System\n",
    "x_LU = linalg.solve(A,b)\n",
    "\n",
    "#free up memory\n",
    "del A,b\n",
    "\n",
    "#Boundary Conditions\n",
    "X_coor = np.insert(X_coor, 0, x_0);x_LU = np.insert(x_LU, 0, 0)\n",
    "X_coor = np.insert(X_coor, n, x_f);x_LU = np.insert(x_LU, n, 0)\n",
    "\n",
    "print(\"LU solve time: %s seconds\" % (time.time() - start_time_LU))\n",
    "print(\"Total Elapsed time: %s seconds\" % (time.time() - start_time_LU_total))\n",
    "\n",
    "#Plotting\n",
    "%matplotlib inline\n",
    "xlabel(\"x\")\n",
    "ylabel(\"LU u(x)\")\n",
    "axes = plt.gca()\n",
    "axes.set_xlim([0,1])\n",
    "axes.set_ylim([0,0.7])\n",
    "title(\"LU Decompoision\")\n",
    "plot(X_coor,x_LU,color='red')"
   ]
  },
  {
   "cell_type": "code",
   "execution_count": null,
   "metadata": {
    "collapsed": false
   },
   "outputs": [],
   "source": [
    "#Plots form all different methods\n",
    "%matplotlib inline\n",
    "axes = plt.gca()\n",
    "axes.set_xlim([0,1])\n",
    "axes.set_ylim([0,0.7])\n",
    "xlabel(\"x\")\n",
    "\n",
    "                            #Analytic\n",
    "#title(\"Analytical Solution\");ylabel(\"Analytical u(x)\");plot(X_sol,Sol,color='green')\n",
    "                            \n",
    "                            #Algorithmic\n",
    "#title(\"Algorithm From Lecture\");ylabel(\"Analytical u(x)\");plot(x_coor,X_algorithm,color='blue')\n",
    "\n",
    "                                #LU\n",
    "#title(\"LU Decompoision\");ylabel(\"LU u(x)\");plot(X_coor,x_LU,color='red')"
   ]
  },
  {
   "cell_type": "markdown",
   "metadata": {
    "collapsed": true
   },
   "source": [
    "<a id=\"cell9\"></a>\n",
    "$\\underline{\\large{\\textbf{Discussion:}}}$\n",
    "\n",
    "###### Plots for different Solutions\n",
    "You can choose in the cell above to plot the data from any of the three methods we used: Analytical, Algorithmic, or LU Decomposition.  Simply uncomment the appropriate line to see the plot.  By default n=100 for all plots.  This also be used to compare the methods to each other.  You can get a qualitative feel for the error by comparing the approximation methods to the analytical solution.  \n",
    "\n",
    "Analytical        -> Green \n",
    "\n",
    "Algorithmic       -> Blue  \n",
    "\n",
    "LU Decomposition  -> Red\n",
    "\n",
    "Graphs Generated by my Code:\n",
    "\n",
    "|Method            | n = 10     | n = 100      | n = 1000  |\n",
    "|:-----------------|:----------:|:------------:|:---------:|\n",
    "| Analytical       |<img src=\"Project1_pics/Analytical-10.png\">|<img src=\"Project1_pics/Analytical-100.png\">|<img src=\"Project1_pics/Analytical-1000.png\">|\n",
    "| Algorithmic      |<img src=\"Project1_pics/Algorithm-10.png\">|<img src=\"Project1_pics/Algorithm-100.png\">|<img src=\"Project1_pics/Algorithm-100.png\">|\n",
    "| LU Decomposition |<img src=\"Project1_pics/LU-10.png\">|<img src=\"Project1_pics/LU-100.png\">|<img src=\"Project1_pics/LU-1000.png\">|\n",
    "\n",
    "\n",
    "###### Floating Point Operations (FLOPS)\n",
    "Gaussian elimination: $2n^3/3 + O(n^2)$\n",
    "\n",
    "LU Decomposition: $O(n^3) + O(n^2)$\n",
    "\n",
    "###### Computation Time (s)\n",
    "|Method            | n = 10     | n = 100      | n = 1000  |\n",
    "|:-----------------|:----------:|:------------:|:---------:|\n",
    "| Analytical       | 0.00055313 | 0.00088500   | 0.0029740 |\n",
    "| Algorithmic      | 0.0019321  | 0.0041198    | 0.0083460 |\n",
    "| Algorithmic Solve| 0.0011420  | 0.0023009    | 0.0062189 |\n",
    "| LU Decomposition | 0.0028491  | 0.0090901    | 3.1231    |\n",
    "| LU Solve         | 0.00076007 | 0.0017528    | 0.043681  |\n",
    "\n",
    "Algorithmic and LU Decomposition list the time it takes the entire code block for those sections to run.  The Algorithmic and LU Solve data refers to the time it take to solve the matrix and excludes the time it takes to set up the matrix for each method.\n",
    "\n",
    "We see the LU Decomposition as a whole takes longer than our algorithm, but the solve step for LU Decomposition is extremely quick.  This has to do with the fact that I had to set up the matrix $\\textbf{A}$ explicity in order to use pythons built in LU Decompositions, which is computationally expensive.  However, this approach does have it's advantages.  For example, if you had a series of similar problems with different source funtions LU Decomposition would be an extremely powerful tool.  You would only have to set up $\\textbf{A}$ once and then you could use it repeatedly to solve all your problems almost instantaneously.  However, for our purposes here it seems that the algorithm we discussed in lecture offers the most expedient solution.\n",
    "\n",
    "###### Max Error \n",
    "We define the relative error ($\\epsilon_i$) as follows\n",
    "\\begin{equation}\n",
    "\\epsilon_i = log_{10}(\\frac{|computation_i-analytical_i|}{|analytical_i|})\n",
    "\\end{equation}\n",
    "\n",
    "Max Relative Errors:\n",
    "\n",
    "|Method            | n = 10     | n = 100      | n = 1000  | n =10000 |\n",
    "| -------------    |:----------:|:------------:|:---------:|:--------:|\n",
    "| Algorithmic      | 0.69611    | 0.87693      | 0.90112   | 0.90307  |\n",
    "| LU Decomposition | -1.1482    | -3.0792      | -5.0770   | NA       |\n",
    "\n",
    "<center>*I was not able to run the LU decomposition for 10000 steps.</center>\n",
    "\n",
    "We see from the error comparison that the LU Decomposition is well worth the extra run time if you require high percision.  As we stretch out the step length the maximum relative error drops lower and lower.  For the Algorithmic method however, the maximum error stay fairly constant.  \n",
    "\n",
    "We can also plot the relative error as a function of $log_{10}(h)$\n",
    "\n",
    "|Method            | n = 10     | n = 100      | n = 1000  |\n",
    "|:-----------------|:----------:|:------------:|:---------:|\n",
    "| Algorithmic       |<img src=\"Project1_pics/Algorithm_Error_10.png\">|<img src=\"Project1_pics/Algorithm_Error_100.png\">|<img src=\"Project1_pics/Algorithm_Error_1000.png\">|\n",
    "| LU Decomposition  |<img src=\"Project1_pics/LU_Error_10.png\">|<img src=\"Project1_pics/LU_Error_100.png\">|<img src=\"Project1_pics/LU_Error_1000.png\">|\n"
   ]
  },
  {
   "cell_type": "code",
   "execution_count": 50,
   "metadata": {
    "collapsed": false
   },
   "outputs": [
    {
     "name": "stdout",
     "output_type": "stream",
     "text": [
      "Max Error in Algorithm for 1000 steps: 0.9011166988348032\n",
      "Max Error in LU for 1000 steps: -5.0769746465601395\n"
     ]
    },
    {
     "data": {
      "text/plain": [
       "[<matplotlib.lines.Line2D at 0x10b6e1668>]"
      ]
     },
     "execution_count": 50,
     "metadata": {},
     "output_type": "execute_result"
    },
    {
     "data": {
      "image/png": "[encoded data removed]",
      "text/plain": [
       "<matplotlib.figure.Figure at 0x10b6c7588>"
      ]
     },
     "metadata": {},
     "output_type": "display_data"
    }
   ],
   "source": [
    "#Error Analysis\n",
    "#We are looking to find the max relative error across the different methods and step sizes.\n",
    "from array import *\n",
    "i = 1\n",
    "n=1000\n",
    "\n",
    "#Step size h and coordinate value \n",
    "h=(x_f-x_0)/(n+1)\n",
    "h_coor = h\n",
    "\n",
    "Relative_Error_LU_max = -1000\n",
    "Relative_Error_Algorithm_max = -1000\n",
    "'''\n",
    "The following loop will calculate the max error\n",
    "The values for the algorithm are stored in X_algorithm[i]\n",
    "The values for the LU Decomposition are stored in x_LU\n",
    "'''\n",
    "Relative_Error_Algorithm = array('d')\n",
    "Relative_Error_LU = array('d')\n",
    "log10_h_coor = array('d')\n",
    "\n",
    "while (i < n):\n",
    "    Relative_Error_Algorithm.append(math.log10(abs((Sol[i]-X_algorithm[i])/X_algorithm[i])))\n",
    "    Relative_Error_LU.append(math.log10(abs((Sol[i]-x_LU[i])/x_LU[i])))\n",
    "    log10_h_coor.append(math.log10(h_coor))\n",
    "    if (Relative_Error_Algorithm[i-1] > Relative_Error_Algorithm_max):\n",
    "        Relative_Error_Algorithm_max = Relative_Error_Algorithm[i-1]\n",
    "    if (Relative_Error_LU[i-1] > Relative_Error_LU_max):\n",
    "        Relative_Error_LU_max = Relative_Error_LU[i-1]\n",
    "    i = i + 1\n",
    "    h_coor = h_coor + h\n",
    "print(\"Max Error in Algorithm for\",n,\"steps:\",Relative_Error_Algorithm_max)\n",
    "print(\"Max Error in LU for\",n,\"steps:\",Relative_Error_LU_max)\n",
    "\n",
    "\n",
    "#We would also like to see a plot of the error vs. log10(h)\n",
    "%matplotlib inline\n",
    "axes = plt.gca()\n",
    "axes.set_xlim([math.log10(h),math.log10((x_f-x_0)-2*h)])\n",
    "axes.set_ylim([-7.0,0])\n",
    "\n",
    "#Algorithm Error\n",
    "xlabel(\"log10(h)\")\n",
    "ylabel(\"Relative Error Algorithm\")\n",
    "title(\"Error In LU\")\n",
    "plot(log10_h_coor,Relative_Error_LU,color='green')"
   ]
  },
  {
   "cell_type": "code",
   "execution_count": null,
   "metadata": {
    "collapsed": true
   },
   "outputs": [],
   "source": []
  }
 ],
 "metadata": {
  "kernelspec": {
   "display_name": "Python 3",
   "language": "python",
   "name": "python3"
  },
  "language_info": {
   "codemirror_mode": {
    "name": "ipython",
    "version": 3
   },
   "file_extension": ".py",
   "mimetype": "text/x-python",
   "name": "python",
   "nbconvert_exporter": "python",
   "pygments_lexer": "ipython3",
   "version": "3.5.0"
  }
 },
 "nbformat": 4,
 "nbformat_minor": 0
}
