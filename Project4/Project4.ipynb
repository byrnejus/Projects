{
 "cells": [
  {
   "cell_type": "markdown",
   "metadata": {},
   "source": [
    "# Project 4: 2-Dimensional Ising Model \n",
    "### Robert Sutherland Computational Physics (PHY480), Michigan State University"
   ]
  },
  {
   "cell_type": "markdown",
   "metadata": {},
   "source": [
    "# Table of Contents\n",
    "\n",
    "[0.0 Why Chose This Project?](#cell0.0)\n",
    "\n",
    "[0.1 Theoretical Overview](#cell0.1)\n",
    "\n",
    "[1.0 Theory: 1-d Ising Model](#cell1.0)\n",
    "\n",
    "[1.1 Simple Code Example: 1-d Ising Model](#cell1.1)\n"
   ]
  },
  {
   "cell_type": "markdown",
   "metadata": {},
   "source": [
    "<a id=\"cell0.0\"></a>\n",
    "\n",
    "## 0.0 Why The Ising Model??\n",
    "\n",
    "Of the options presented to us I originally planned to do the molecular dynamics simulation.  I spent a couple years earlier in my undergraduate career working in computational biophysics and so I am reasonably familiar with how those sort of things work.  However, yesterday in my Network theory class we discussed the spin-glass model.  I had no idea what was really going on....  I feel this project gives me a great opportunity to learn something new and fill a gap in my understand of statistical physics (because no one really understands that stuff the first time through).\n",
    "\n",
    "Furthermore I feel that this type of problem is especially appropriate because the randomness inherent in the algorithms we will employ is very clearly reflected in the system we are studying.  "
   ]
  },
  {
   "cell_type": "markdown",
   "metadata": {},
   "source": [
    "<a id=\"cell0.1\"></a>\n",
    "\n",
    "## 0.1 Thoretical Overview\n",
    "\n",
    "### What exactly are we thinking about? \n",
    "\n",
    "Consider an array of N atoms, maybe they look something like this\n",
    "\n",
    "$$\\odot \\hspace{1.5cm} \\odot \\hspace{1.5cm} \\odot \\hspace{1.5cm} \\odot \\hspace{1.5cm} \\odot \\hspace{1.5cm}$$\n",
    "\n",
    "each of these atoms has associated with it a spin to which we assign either $\\pm$1.  We can represent these with up ($\\uparrow$) and down ($\\downarrow$) arrows.  Now suppose our configuration of atoms has the following spin arrangement. \n",
    "\n",
    "$$\\uparrow \\hspace{1.5cm} \\downarrow \\hspace{1.5cm} \\downarrow \\hspace{1.5cm} \\uparrow \\hspace{1.5cm} \\uparrow \\hspace{1.5cm}$$\n",
    "\n",
    "Just for fun it's worth mentioning that we could cast this entire theory in terms of smiles and frowns (or any other binary variable for that matter) so here's a more fun representation just for laughs.  Note that the product of a smile and a frown will be a frown (misery loves company), but the product of two frown should make a smile (since misery loves company it gets happy and smiles).\n",
    "\n",
    "$$\\smile \\hspace{1.5cm} \\frown \\hspace{1.5cm} \\frown \\hspace{1.5cm} \\smile \\hspace{1.5cm} \\smile \\hspace{1.5cm}$$\n",
    "\n",
    "### Looking for Observables\n",
    "\n",
    "#### Energy\n",
    "\n",
    "The energy of the system is dependent on the alignment a spin with the two immediately adjacent spins.  We can see in the configuration above that there are must be 4 possible alignments.\n",
    "\n",
    "$$\\uparrow\\uparrow \\hspace{1.5cm} (\\hspace{0.5cm}\\uparrow\\downarrow \\hspace{1.5cm} \\downarrow\\uparrow\\hspace{0.5cm}) \\hspace{1.5cm} \\downarrow\\downarrow \\hspace{1.5cm}$$\n",
    "\n",
    "I have enclosed the middle two configurations in parentheses because they are just mirrors of one another and thus identical values for energy.  The energy for an atom at position n is given by\n",
    "\n",
    "$$E_n = -JS_nS_{n+1}$$\n",
    "\n",
    "Where $S_n$ is the spin of atom n and S_{n+1} is the spin of the atom to the right.  J represents a coupling constant that encodes the strength of interaction between adjacent atoms.  We can see that for our possible configurations we get the following values for $E_n$. \n",
    "\n",
    "\n",
    "$$E_n(\\uparrow\\uparrow) = -J \\hspace{1.5cm} E_n(\\uparrow\\downarrow or  \\downarrow\\uparrow)=+J \\hspace{1.5cm} E_n(\\downarrow\\downarrow) = -J \\hspace{1.5cm}$$\n",
    "\n",
    "To compute the energy for our system is a simple matter of summing up all the little contributions from the pairs of atoms so that the total energy E is given by\n",
    "\n",
    "$$E=-J\\sum_{n=1}^{n-1}S_nS_{n-1}$$\n",
    "\n",
    "There is one complication to consider, and that is the contribution from the boundary atoms at $n=0$ and $n=N$.  Since these atoms have only one neighbor they behave a little differently.  If N is a large number then the contributions from the end points can safely be ignored.  That is the approach I will take and it is called the free ends approximation.  This means that the formula described above is fine as it is, but you should still be aware of what I am doing here.\n",
    "\n",
    "#### Magnitization"
   ]
  },
  {
   "cell_type": "code",
   "execution_count": null,
   "metadata": {
    "collapsed": true
   },
   "outputs": [],
   "source": []
  }
 ],
 "metadata": {
  "kernelspec": {
   "display_name": "Python 3",
   "language": "python",
   "name": "python3"
  },
  "language_info": {
   "codemirror_mode": {
    "name": "ipython",
    "version": 3
   },
   "file_extension": ".py",
   "mimetype": "text/x-python",
   "name": "python",
   "nbconvert_exporter": "python",
   "pygments_lexer": "ipython3",
   "version": "3.5.0"
  }
 },
 "nbformat": 4,
 "nbformat_minor": 0
}
