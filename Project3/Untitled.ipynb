{
 "cells": [
  {
   "cell_type": "markdown",
   "metadata": {},
   "source": [
    "# Project 3: Modeling The Solar System\n",
    "### A colaborative effort of Robert Sutherland, Justin Byrne, Josh Milem, Computational Physics (PHY480), Michigan State University"
   ]
  },
  {
   "cell_type": "code",
   "execution_count": 14,
   "metadata": {
    "collapsed": false
   },
   "outputs": [
    {
     "name": "stdout",
     "output_type": "stream",
     "text": [
      "0.010743390440101419 6.249342809454163\n",
      "0.021428143563558266 6.215502264843056\n",
      "0.032053059240404136 6.181667537660656\n",
      "0.04261698343844522 6.147842429270329\n",
      "0.05311880769290134 6.114030678007064\n",
      "0.06355746855765387 6.080235959135349\n",
      "0.07393194703924844 6.046461884841311\n",
      "0.08424126801476806 6.01271200425813\n",
      "0.09448449963467809 5.97898980352374\n",
      "0.10466075271172504 5.945298705869837\n",
      "0.11476918009693848 5.911642071741217\n"
     ]
    }
   ],
   "source": [
    "from array import *\n",
    "import math\n",
    "import numpy as np\n",
    "'''\n",
    "Let n be the number of steps\n",
    "t_0 and t_f represent initial and final times respectively\n",
    "The step size h is then (t_f-t_0)/n\n",
    "'''\n",
    "#Define time interval & step size\n",
    "#Starting at t=0\n",
    "t_0=0;t_f=1\n",
    "n=365\n",
    "h=(t_f-t_0)/n\n",
    "'''\n",
    "Implements RK4 Solution for Earth-Sun System\n",
    "u(x)=4pix=ax\n",
    "We define coordinates such that x_0=0, this means V_x0 = 0.\n",
    "In our units |v|=2pi\n",
    "'''\n",
    "v=2*math.pi\n",
    "a=-4*math.pi\n",
    "def RK4(x_0,v_x0):\n",
    "        k1=h*a*(math.sqrt(1-x_0**2))\n",
    "        k2=h*a*(math.sqrt(1-x_0**2)+k1/2.0)\n",
    "        k3=h*a*(math.sqrt(1-x_0**2)+k2/2.0)\n",
    "        k4=h*a*(math.sqrt(1-x_0**2)+k3)\n",
    "        global v_x,x\n",
    "        v_x=v_x0+(k1+2*k2+2*k3+k4)/6.0\n",
    "        x=1-(v_x/v)**2\n",
    "        return v_x,x\n",
    "w=2*math.pi    \n",
    "RK4(0,2*math.pi)\n",
    "print(x,v_x)\n",
    "i=0\n",
    "while i < 10:\n",
    "    RK4(x,v_x)\n",
    "    print(x,v_x)\n",
    "    i=i+1\n"
   ]
  },
  {
   "cell_type": "code",
   "execution_count": 12,
   "metadata": {
    "collapsed": false
   },
   "outputs": [
    {
     "ename": "TypeError",
     "evalue": "object of type 'float' has no len()",
     "output_type": "error",
     "traceback": [
      "\u001b[0;31m---------------------------------------------------------------------------\u001b[0m",
      "\u001b[0;31mTypeError\u001b[0m                                 Traceback (most recent call last)",
      "\u001b[0;32m<ipython-input-12-f23852aed954>\u001b[0m in \u001b[0;36m<module>\u001b[0;34m()\u001b[0m\n\u001b[1;32m     14\u001b[0m         \u001b[0mxv\u001b[0m\u001b[0;34m[\u001b[0m\u001b[0mi\u001b[0m\u001b[0;34m+\u001b[0m\u001b[0;36m1\u001b[0m\u001b[0;34m]\u001b[0m \u001b[0;34m=\u001b[0m \u001b[0mxv\u001b[0m\u001b[0;34m[\u001b[0m\u001b[0mi\u001b[0m\u001b[0;34m]\u001b[0m \u001b[0;34m+\u001b[0m \u001b[0mh\u001b[0m\u001b[0;34m/\u001b[0m\u001b[0;36m6.0\u001b[0m \u001b[0;34m*\u001b[0m\u001b[0;34m(\u001b[0m \u001b[0mk1\u001b[0m \u001b[0;34m+\u001b[0m \u001b[0;36m2\u001b[0m\u001b[0;34m*\u001b[0m\u001b[0mk2\u001b[0m \u001b[0;34m+\u001b[0m \u001b[0;36m2\u001b[0m\u001b[0;34m*\u001b[0m\u001b[0mk3\u001b[0m \u001b[0;34m+\u001b[0m \u001b[0mk4\u001b[0m\u001b[0;34m)\u001b[0m\u001b[0;34m\u001b[0m\u001b[0m\n\u001b[1;32m     15\u001b[0m     \u001b[0;32mreturn\u001b[0m \u001b[0mT\u001b[0m\u001b[0;34m,\u001b[0m \u001b[0mxv\u001b[0m\u001b[0;34m\u001b[0m\u001b[0m\n\u001b[0;32m---> 16\u001b[0;31m \u001b[0mrk4\u001b[0m\u001b[0;34m(\u001b[0m\u001b[0mF_x\u001b[0m\u001b[0;34m,\u001b[0m\u001b[0;36m0.0\u001b[0m\u001b[0;34m,\u001b[0m\u001b[0;36m100\u001b[0m\u001b[0;34m,\u001b[0m\u001b[0;36m100\u001b[0m\u001b[0;34m)\u001b[0m\u001b[0;34m\u001b[0m\u001b[0m\n\u001b[0m",
      "\u001b[0;32m<ipython-input-12-f23852aed954>\u001b[0m in \u001b[0;36mrk4\u001b[0;34m(f, xvinit, Tmax, N)\u001b[0m\n\u001b[1;32m      4\u001b[0m \u001b[0;32mdef\u001b[0m \u001b[0mrk4\u001b[0m\u001b[0;34m(\u001b[0m\u001b[0mf\u001b[0m\u001b[0;34m,\u001b[0m \u001b[0mxvinit\u001b[0m\u001b[0;34m,\u001b[0m \u001b[0mTmax\u001b[0m\u001b[0;34m,\u001b[0m \u001b[0mN\u001b[0m\u001b[0;34m)\u001b[0m\u001b[0;34m:\u001b[0m\u001b[0;34m\u001b[0m\u001b[0m\n\u001b[1;32m      5\u001b[0m     \u001b[0mT\u001b[0m \u001b[0;34m=\u001b[0m \u001b[0mnp\u001b[0m\u001b[0;34m.\u001b[0m\u001b[0mlinspace\u001b[0m\u001b[0;34m(\u001b[0m\u001b[0;36m0\u001b[0m\u001b[0;34m,\u001b[0m \u001b[0mTmax\u001b[0m\u001b[0;34m,\u001b[0m \u001b[0mN\u001b[0m\u001b[0;34m+\u001b[0m\u001b[0;36m1\u001b[0m\u001b[0;34m)\u001b[0m\u001b[0;34m\u001b[0m\u001b[0m\n\u001b[0;32m----> 6\u001b[0;31m     \u001b[0mxv\u001b[0m \u001b[0;34m=\u001b[0m \u001b[0mnp\u001b[0m\u001b[0;34m.\u001b[0m\u001b[0mzeros\u001b[0m\u001b[0;34m(\u001b[0m \u001b[0;34m(\u001b[0m\u001b[0mlen\u001b[0m\u001b[0;34m(\u001b[0m\u001b[0mT\u001b[0m\u001b[0;34m)\u001b[0m\u001b[0;34m,\u001b[0m \u001b[0mlen\u001b[0m\u001b[0;34m(\u001b[0m\u001b[0mxvinit\u001b[0m\u001b[0;34m)\u001b[0m\u001b[0;34m)\u001b[0m \u001b[0;34m)\u001b[0m\u001b[0;34m\u001b[0m\u001b[0m\n\u001b[0m\u001b[1;32m      7\u001b[0m     \u001b[0mxv\u001b[0m\u001b[0;34m[\u001b[0m\u001b[0;36m0\u001b[0m\u001b[0;34m]\u001b[0m \u001b[0;34m=\u001b[0m \u001b[0mxvinit\u001b[0m\u001b[0;34m\u001b[0m\u001b[0m\n\u001b[1;32m      8\u001b[0m     \u001b[0mh\u001b[0m \u001b[0;34m=\u001b[0m \u001b[0mTmax\u001b[0m \u001b[0;34m/\u001b[0m \u001b[0mN\u001b[0m\u001b[0;34m\u001b[0m\u001b[0m\n",
      "\u001b[0;31mTypeError\u001b[0m: object of type 'float' has no len()"
     ]
    }
   ],
   "source": [
    "def F_x(x):\n",
    "    4*math.pi(x)\n",
    "\n",
    "def rk4(f, xvinit, Tmax, N):\n",
    "    T = np.linspace(0, Tmax, N+1)\n",
    "    xv = np.zeros( (len(T), len(xvinit)) )\n",
    "    xv[0] = xvinit\n",
    "    h = Tmax / N\n",
    "    for i in range(N):\n",
    "        k1 = f(xv[i])\n",
    "        k2 = f(xv[i] + h/2.0*k1)\n",
    "        k3 = f(xv[i] + h/2.0*k2)\n",
    "        k4 = f(xv[i] + h*k3)\n",
    "        xv[i+1] = xv[i] + h/6.0 *( k1 + 2*k2 + 2*k3 + k4)\n",
    "    return T, xv\n",
    "rk4(F_x,0.0,100,100)"
   ]
  },
  {
   "cell_type": "code",
   "execution_count": null,
   "metadata": {
    "collapsed": true
   },
   "outputs": [],
   "source": []
  }
 ],
 "metadata": {
  "kernelspec": {
   "display_name": "Python 3",
   "language": "python",
   "name": "python3"
  },
  "language_info": {
   "codemirror_mode": {
    "name": "ipython",
    "version": 3
   },
   "file_extension": ".py",
   "mimetype": "text/x-python",
   "name": "python",
   "nbconvert_exporter": "python",
   "pygments_lexer": "ipython3",
   "version": "3.5.0"
  }
 },
 "nbformat": 4,
 "nbformat_minor": 0
}
