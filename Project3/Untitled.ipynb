{
 "cells": [
  {
   "cell_type": "markdown",
   "metadata": {},
   "source": [
    "# Project 3: Modeling The Solar System\n",
    "### A colaborative effort of Robert Sutherland, Justin Byrne, Josh Milem, Computational Physics (PHY480), Michigan State University"
   ]
  },
  {
   "cell_type": "markdown",
   "metadata": {},
   "source": [
    "# Table of Contents"
   ]
  },
  {
   "cell_type": "markdown",
   "metadata": {
    "collapsed": true
   },
   "source": [
    "### Learning From Previous Projects\n",
    "\n",
    "I noticed in project 1 and 2 that I ended up copying a lot of code only to make slight modifications.  That process is effective, but it's really sloppy and I think it makes my reports look a little less professional.  I would like to take advantage of the object-orientation in this project to create blocks of code which I can call when I need them.  This should reduce the length of my report and make it more readable.\n",
    "\n",
    "Also, I should put all of my imports in one header box of code so I don't have to use them over and over and I should encase my RK4 solver in it's own box as well and just call it when I need it."
   ]
  },
  {
   "cell_type": "markdown",
   "metadata": {},
   "source": [
    "## Preliminary Theory\n"
   ]
  },
  {
   "cell_type": "markdown",
   "metadata": {},
   "source": [
    "## A Simple Example Using the Runge-Kutta 4 Solver\n",
    "\n",
    "Here we will call upon the Runge-Kutta 4 solver to solve the equation for Hooke's law, which describes a mass on a spring.\n",
    "\n",
    "$$m\\frac{d^2x}{dt^2}=-kx(t)\\hspace{1.5cm}(1)$$\n",
    "\n",
    "We chose this equation because the analytical solution is know and can be arrived at fairly easily with some basic calculus.  In order to solve eq(1) we can rewrite it in a more suggestive form.\n",
    "\n",
    "$$\\frac{d^2x}{dt^2}=-\\frac{k}{m}x(t)\\hspace{1.5cm}(2)$$\n",
    "\n",
    "Following tradition we define $\\omega=\\sqrt{k/m}$.  eq(2) then becomes\n",
    "\n",
    "$$\\frac{d^2x}{dt^2}=-\\omega^2x(t)\\hspace{1.5cm}(3)$$\n",
    "\n",
    "which lends itself nicely to a solutions of the form $x=Asin(\\omega t+\\phi)$ or $Acos(\\omega t+\\phi)$.  For our particular case, let's set the phase constant $\\phi=0$ and further impose the condition that x(0) = 0.  This fixes our solution to \n",
    "\n",
    "$$x(t)=Asin(\\omega t)$$\n",
    "\n",
    "The velocity is also fairly obvious...\n",
    "\n",
    "$$v(t)=\\omega Acos(\\omega t)$$\n",
    "\n",
    "Invoking a little bit of physical foresight I would like to write\n",
    "\n",
    "$$v(t)=V_0cos(\\omega t)$$\n",
    "\n",
    "I will write eq(1) in terms of velocity so that the problem we attempt can be first order.  Just to be clear our initial goal will be to solve for the $\\textit{velocity}$.\n",
    "\n",
    "$$v'(t)=-\\omega^2x(t)\\hspace{1.5cm}(4)$$\n",
    "\n",
    "In the following cell I will attempt now to arrive at the same solution for the velocity using the Runge-Kutta 4 methods discussed in lecture and in section 8.4 of the lecture notes."
   ]
  },
  {
   "cell_type": "code",
   "execution_count": 2,
   "metadata": {
    "collapsed": true
   },
   "outputs": [],
   "source": [
    "#Let's put everything we'll need to import in one cell this time\n",
    "from array import *\n",
    "import math \n",
    "import numpy as np"
   ]
  },
  {
   "cell_type": "code",
   "execution_count": 45,
   "metadata": {
    "collapsed": false
   },
   "outputs": [
    {
     "data": {
      "text/plain": [
       "(0.17906425, 0.89532125)"
      ]
     },
     "execution_count": 45,
     "metadata": {},
     "output_type": "execute_result"
    }
   ],
   "source": [
    "'''\n",
    "Let n be the number of steps\n",
    "t_0 and t_f represent initial and final times respectively\n",
    "The step size h is then (t_f-t_0)/n\n",
    "\n",
    "Also, I am going to try following Mathematica's Convention\n",
    "of marking functions with capitals\n",
    "'''\n",
    "#Define time interval & step size\n",
    "#Starting at t=0\n",
    "t_0=0;t_f=1.0\n",
    "n=10\n",
    "h=(t_f-t_0)/n\n",
    "\n",
    "#Vectorize time\n",
    "t_vec=np.zeros(n)\n",
    "i=1\n",
    "while i<=n:\n",
    "    t_vec[i-1]=t_0+i*h\n",
    "    i=i+1\n",
    "#print(t_vec)\n",
    "\n",
    "\n",
    "#Set the value of omega (w) and A, for convenience both are 1 by default\n",
    "w=1;A=1\n",
    "#Initialize eq(4)\n",
    "def Vprime_x(v_in):\n",
    "    return -w**2*A*v_in\n",
    "\n",
    "#Specify our initial conditions v_0=A\n",
    "x_0=0;v_x0=A;t_0=0.0\n",
    "\n",
    "def RK4(f,x_rk,v_rk,t_rk):\n",
    "    #Solve for the velocity\n",
    "    k1=h*f(v_rk)\n",
    "    k2=h*f(v_rk+k1/2)\n",
    "    k3=h*f(v_rk+k2/2)\n",
    "    k4=h*f(v_rk+k3)\n",
    "    v_x = v_x0+(k1+2*k2+2*k3+k4)/6\n",
    "    #Use velocity to solve for x at t=t+1\n",
    "    x=2*h*v_x+x_rk\n",
    "    return x,v_x\n",
    "\n",
    "RK4(Vprime_x,x_0,v_x0+h,t_0)\n",
    "\n",
    "##The next step is to store the output values in a loop and iterate."
   ]
  },
  {
   "cell_type": "code",
   "execution_count": null,
   "metadata": {
    "collapsed": false
   },
   "outputs": [],
   "source": []
  },
  {
   "cell_type": "code",
   "execution_count": null,
   "metadata": {
    "collapsed": false
   },
   "outputs": [],
   "source": []
  },
  {
   "cell_type": "code",
   "execution_count": null,
   "metadata": {
    "collapsed": true
   },
   "outputs": [],
   "source": []
  }
 ],
 "metadata": {
  "kernelspec": {
   "display_name": "Python 3",
   "language": "python",
   "name": "python3"
  },
  "language_info": {
   "codemirror_mode": {
    "name": "ipython",
    "version": 3
   },
   "file_extension": ".py",
   "mimetype": "text/x-python",
   "name": "python",
   "nbconvert_exporter": "python",
   "pygments_lexer": "ipython3",
   "version": "3.5.0"
  }
 },
 "nbformat": 4,
 "nbformat_minor": 0
}
