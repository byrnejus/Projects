{
 "cells": [
  {
   "cell_type": "markdown",
   "metadata": {},
   "source": [
    "# Project 3: Modeling The Solar System\n",
    "### Robert Sutherland Computational Physics (PHY480), Michigan State University"
   ]
  },
  {
   "cell_type": "markdown",
   "metadata": {},
   "source": [
    "# Table of Contents\n",
    "\n",
    "[0.0 Wisdom From the Past](#cell0.0)\n",
    "\n",
    "[1.0 Construct the Solver: A Simple Example](#cell1.0)\n",
    "\n",
    "[1.1 Setting up the algorithm (a) RUN THIS CODE BEFORE ANY LATER SECTIONS](#cell1.1)\n",
    "\n",
    "[1.2 Theory Behind Runge-Kutta](#cell1.2)\n",
    "\n",
    "[1.3 Define RK4 for Later Use](#cell1.3)\n",
    "\n",
    "[2.0 Applying Runge Kutta: Earth-Sun System](#cell2.0)\n",
    "\n",
    "[2.1 Applying Runge Kutta: My Code](#cell2.1)\n",
    "\n",
    "[2.2 Results From 2.1](#cell2.2)\n",
    "\n",
    "[2.3 Earth-Sun Continued: Checking for Errors w/conserved quantities](#cell2.3)\n",
    "\n",
    "[3.0 Getting Classy](#cell3.0)"
   ]
  },
  {
   "cell_type": "markdown",
   "metadata": {
    "collapsed": true
   },
   "source": [
    "<a id=\"cell0.0\"></a>\n",
    "### 0.0 Learning From Previous Projects\n",
    "\n",
    "I noticed in project 1 and 2 that I ended up copying a lot of code only to make slight modifications.  That process is effective, but it's really sloppy and I think it makes my reports look a little less professional.  I would like to take advantage of the object-orientation in this project to create blocks of code which I can call when I need them.  This should reduce the length of my report and make it more readable.\n",
    "\n",
    "I should put all of my imports in one header box of code so I don't have to use them over and over and I should encase my RK4 solver in it's own box as well and just call it when I need it.\n",
    "\n",
    "I found this super cool matplotlib reference page:\n",
    "http://www.scipy-lectures.org/intro/matplotlib/matplotlib.html\n",
    "\n",
    "Lastly I am tring a different approach here inspired by a quote from Sanjoy Mahajan's $\\textit{Street-Fighting Mathematics}$: \n",
    "\n",
    "$\\textbf{\"To much mathematical rigor leads to rigor-mortis, the fear to make an unjustified leap.\"}$  \n",
    "\n",
    "I feel I spent too much time on preliminary theory and in the interest of finals-deadline-rush I will just dive straight into the code and worry about the theory later."
   ]
  },
  {
   "cell_type": "markdown",
   "metadata": {},
   "source": [
    "<a id=\"cell1.0\"></a>\n",
    "## 1.0 A Simple Example Using the Runge-Kutta 4 Solver\n",
    "\n",
    "Here we will call upon the Runge-Kutta 4 solver to solve the equation for Hooke's law, which describes a mass on a spring.\n",
    "\n",
    "$$m\\frac{d^2x}{dt^2}=-kx(t)\\hspace{1.5cm}(1)$$\n",
    "\n",
    "We chose this equation because the analytical solution is know and can be arrived at fairly easily with some basic calculus.  In order to solve eq(1) we can rewrite it in a more suggestive form.\n",
    "\n",
    "$$\\frac{d^2x}{dt^2}=-\\frac{k}{m}x(t)\\hspace{1.5cm}(2)$$\n",
    "\n",
    "Following tradition we define $\\omega=\\sqrt{k/m}$.  eq(2) then becomes\n",
    "\n",
    "$$\\frac{d^2x}{dt^2}=-\\omega^2x(t)\\hspace{1.5cm}(3)$$\n",
    "\n",
    "which lends itself nicely to a solutions of the form $x=Asin(\\omega t+\\phi)$ or $Acos(\\omega t+\\phi)$.  For our particular case, let's set the phase constant $\\phi=0$ and further impose the condition that x(0) = 0.  This fixes our solution to \n",
    "\n",
    "$$x(t)=Asin(\\omega t)$$\n",
    "\n",
    "The velocity is also fairly obvious...\n",
    "\n",
    "$$v(t)=\\omega Acos(\\omega t)$$\n",
    "\n",
    "Invoking a little bit of physical foresight I would like to write\n",
    "\n",
    "$$v(t)=V_0cos(\\omega t)$$\n",
    "\n",
    "I will write eq(1) in terms of velocity so that the problem we attempt can be first order.  Just to be clear our initial goal will be to solve for the $\\textit{velocity}$, then we can use the velocity and the time step to get our new value for x and iterate.\n",
    "\n",
    "$$v'(t)=-\\omega^2x(t)\\hspace{1.5cm}(4)$$\n",
    "\n",
    "In the following cell I will attempt now to arrive at the same solutions for the velocity and position using the Runge-Kutta 4 methods discussed in lecture and in section 8.4 of the lecture notes.  I define $A$ and $\\omega$ so that the function has a period of $2\\pi$.  So we have the parameters \n",
    "\n",
    "$$A=1 \\hspace{1.5cm} \\omega=1$$\n",
    "\n",
    "I will also stick with the initial conditions discussed here in my code."
   ]
  },
  {
   "cell_type": "markdown",
   "metadata": {},
   "source": [
    "<a id=\"cell1.1\"></a>\n",
    "## 1.1 Setting Up the Algorithm"
   ]
  },
  {
   "cell_type": "code",
   "execution_count": null,
   "metadata": {
    "collapsed": false
   },
   "outputs": [],
   "source": [
    "from array import *\n",
    "import math \n",
    "import numpy as np\n",
    "\n",
    "'''\n",
    "Let n be the number of steps\n",
    "t_0 and t_f represent initial and final times respectively\n",
    "The step size h is then (t_f-t_0)/n\n",
    "\n",
    "Also, I am going to try following Mathematica's Convention\n",
    "of marking functions with capitals\n",
    "'''\n",
    "#Define time interval & step size\n",
    "#Starting at t=0\n",
    "t_0=0;t_f=10*math.pi\n",
    "n=10000\n",
    "h=(t_f-t_0)/n\n",
    "\n",
    "#Vectorize time, position, and velocity\n",
    "t_vec=np.zeros(n)\n",
    "x_vec=np.zeros(n)\n",
    "v_x_vec=np.zeros(n)\n",
    "i=1\n",
    "while i<=n:\n",
    "    t_vec[i-1]=t_0+i*h\n",
    "    i=i+1\n",
    "#print(t_vec)\n",
    "\n",
    "\n",
    "#Set the value of omega (w) and A, for convenience both are 1 by default\n",
    "w=1;A=1\n",
    "#Initialize eq(4)\n",
    "def Vprime_x(x_in):\n",
    "    return -w**2*A*x_in\n",
    "\n",
    "#Specify our initial conditions v_0=A\n",
    "x_0=0\n",
    "v_x0=A\n",
    "v_x_vec[0]=v_x0;x_vec[0]=0;t_0=0.0\n",
    "'''\n",
    "-------------------------------\n",
    "Our Runge-Kutta Solver is here.\n",
    "-------------------------------\n",
    "'''\n",
    "def RK4(f,x_rk,v_rk):\n",
    "    global x,v_x\n",
    "    #Solve for the velocity\n",
    "    k1=h*f(x_rk)\n",
    "    k2=h*f(x_rk+k1/2)\n",
    "    k3=h*f(x_rk+k2/2)\n",
    "    k4=h*f(x_rk+k3)\n",
    "    v_x = v_rk+(k1+2*k2+2*k3+k4)/6\n",
    "    #Use velocity to solve for x at t=t+1\n",
    "    x=x_rk+h*v_x+(h**2/2)*f(x_rk)\n",
    "\n",
    "#Step 1 goes outside of loop\n",
    "RK4(Vprime_x,x_0,v_x0)\n",
    "x_vec[1]=x\n",
    "v_x_vec[1]=v_x\n",
    "\n",
    "#Now just loop, storing variables in array\n",
    "j=2\n",
    "while j < n:\n",
    "    RK4(Vprime_x,x_vec[j-1],v_x_vec[j-1])\n",
    "    x_vec[j]=x\n",
    "    v_x_vec[j]=v_x\n",
    "    #print(x,v_x)\n",
    "    j=j+1\n",
    "\n",
    "#Plotting\n",
    "from pylab import *\n",
    "%matplotlib inline\n",
    "xlabel(\"t\")\n",
    "ylabel(\"\")\n",
    "axes = plt.gca()\n",
    "axes.set_xlim([0,10*math.pi])\n",
    "plt.xticks([0, np.pi/2, np.pi, 3*np.pi/2, 2*np.pi],\n",
    "           [r'$0$', r'$\\pi/2$', r'$\\pi$', r'$3\\pi/2$', r'$2\\pi$'])\n",
    "axes.set_ylim([-A,A])\n",
    "title(\" \")\n",
    "#You can add a plot legend instead of just hacking one into the title\n",
    "plot(t_vec,v_x_vec,label=\"v(t)=$\\omega$Asin($\\omega t$)\")\n",
    "plot(t_vec,x_vec,label=\"x(t)=$A$sin($\\omega t$)\")\n",
    "plt.legend(loc='upper left')\n",
    "#Suppress output from plotting section\n",
    "print(\"\")"
   ]
  },
  {
   "cell_type": "markdown",
   "metadata": {
    "collapsed": false
   },
   "source": [
    "<a id=\"cell1.2\"></a>\n",
    "## 1.2 Runge-Kutta 4 Function\n",
    "\n",
    "Alright!  So we can see clearly from the plot above that the solver is working properly.  Even after 5 periods everyhing still looks good.  Now that we have the pragmatism out of the way, it's worth presenting a theoretical overview of how and why the above solver actually works.  This section follows the lecture notes closely so if you've already read them (or if you've written them) there's no need to read this.\n",
    "\n",
    "### The Basic Idea \n",
    "Following the example in the lecture notes we consider a simple and general case of the form\n",
    "\n",
    "$$\\frac{dy}{dt}=f(y,t)$$\n",
    "\n",
    "Being physicists, we fall back upon our favorite approximation tool, the taylor expansion, which for some arbitrary function f(y) looks like\n",
    "\n",
    "$$f(y) = \\sum_{n=0}^{\\infty}\\frac{f^{(n)}(y)}{n!}(y-a)^n$$\n",
    "\n",
    "Using this idea we can express y' above as\n",
    "\n",
    "$$y'_{i+1} \\approx y'_i + hf(y_i,t_i)$$\n",
    "\n",
    "Where y'_i, y_i, and t_i are all specified by initial conditions.  Now let c1 be $hf(y,t)$ at any step.  The equation above is now\n",
    "\n",
    "$$y_{i+1} \\approx y_i + (c1)_i$$\n",
    "\n",
    "We can then use our c1 to correct our approximation by interpolating a point in between $y_i$ and $y_{i+1}$.  We thus define c2 \n",
    "\n",
    "$$c2 = hf(y_{i+1/2},t_{i+1/2}) = hf(y_i + c1/2,t_{i+1/2})$$\n",
    "\n",
    "Now we can say that \n",
    "\n",
    "$$y_{i+1} = y_i + c2$$\n",
    "\n",
    "### The Fourth Order \n",
    "So far the method we have discussed represents a second order correction.  The Runge-Kutta4 method is so named because it's corrections are fourth order.  The algorithm is actually marvelously simple (even simpler I think than either of the previous projects, but maybe I'm just getting better at this stuff).\n",
    "\n",
    "To take this approach out to forth order we need only apply Simpson's formula\n",
    "\n",
    "$$\\int_{t_i}^{t_{i+1}}f(y,t)dt \\approx \\frac{h}{6}[f(y_i,t_i)+4f(y_{i+1/2},t_{i+1/2})+f(y_{i+1},t_{i+1})]$$\n",
    "\n",
    "We simply split the middle step evaluation into two pieces and get \n",
    "\n",
    "$$\\int_{t_i}^{t_{i+1}}f(y,t)dt \\approx \\frac{h}{6} [f(y_i,t_i)+2f(y_{i+1/2},t_{i+1/2})+2f(y_{i+1/2},t_{i+1/2})+f(y_{i+1},t_{i+1})]$$\n",
    "\n",
    "In therms of the variables in the code above we now have simpson's formula as\n",
    "\n",
    "$$\\int_{t_i}^{t_{i+1}}f(y,t)dt \\approx\\frac{h}{6}[k1+2k2+2k3+k4]$$\n",
    "\n",
    "and that's really all there is to it, the rest can be seen clearly from the program."
   ]
  },
  {
   "cell_type": "markdown",
   "metadata": {},
   "source": [
    "<a id=\"cell1.3\"></a>\n",
    "## Define RK4 Function\n",
    "\n",
    "Here I am defining everything that will be used repeatedly throughout this code, then we avoid having to copy-paste.  If you want to edit the time interval, you will either have to do it here or you will have to recreate the time vector in your code block."
   ]
  },
  {
   "cell_type": "markdown",
   "metadata": {},
   "source": [
    "<a id=\"cell1.3.1\"></a>"
   ]
  },
  {
   "cell_type": "code",
   "execution_count": 84,
   "metadata": {
    "collapsed": false
   },
   "outputs": [],
   "source": [
    "#Let's put everything we'll need to import in one cell this time\n",
    "from array import *\n",
    "import math \n",
    "import numpy as np\n",
    "\n",
    "#Define time interval & step size\n",
    "#Starting at t=0\n",
    "t_0=0;t_f=2*math.pi\n",
    "n=1000\n",
    "h=(t_f-t_0)/n\n",
    "\n",
    "'''\n",
    "-------------------------------\n",
    "Our Runge-Kutta Solver is here.\n",
    "-------------------------------\n",
    "'''\n",
    "def RK4(f,p_rk,v_rk):\n",
    "    global p_out,v_out\n",
    "    #Solve for the velocity\n",
    "    k1=h*f(p_rk)\n",
    "    k2=h*f(p_rk+k1/2)\n",
    "    k3=h*f(p_rk+k2/2)\n",
    "    k4=h*f(p_rk+k3)\n",
    "    v_out = v_rk+(k1+2*k2+2*k3+k4)/6\n",
    "    #Use velocity to solve for x at t=t+1\n",
    "    p_out=p_rk+h*v_out+(h**2/2)*f(p_rk)\n",
    "    \n",
    "#Vectorize time, position, and velocity\n",
    "t_vec=np.zeros(n)\n",
    "x_vec=np.zeros(n)\n",
    "y_vec=np.zeros(n)\n",
    "v_x_vec=np.zeros(n)\n",
    "v_y_vec=np.zeros(n)\n",
    "i=1\n",
    "while i<=n:\n",
    "    t_vec[i-1]=t_0+i*h\n",
    "    i=i+1"
   ]
  },
  {
   "cell_type": "markdown",
   "metadata": {
    "collapsed": false
   },
   "source": [
    "<a id=\"cell2.0\"></a>\n",
    "\n",
    "## 2.0 Applying RK4: Earth-Sun System\n",
    "\n",
    "### The Problem \n",
    "\n",
    "We begin our models of the solar system by considering simply the Earth-Sun system.  In this instance we assume circular orbit.  This makes the analytical solution easily attainable and allows us to check our code.  In fact, the analytical solution for this case is essentially identical to what we get for Hooke's Law above.\n",
    "\n",
    "In our case we are asked to consider only 2 spacial dimensions and so have the following two equations describing our system\n",
    "\n",
    "$$\\frac{d^2y}{dt^2}=\\frac{GM_{sun}}{r^2} sin(\\omega t)\\hspace{0.75cm}\\&\\hspace{0.75cm}\\frac{d^2x}{dt^2}=\\frac{GM_{sun}}{r^2}cos(\\omega t)$$\n",
    "\n",
    "Casting everything in cartesian terms gives\n",
    "$$\\frac{d^2y}{dt^2}=\\frac{GM_{sun}}{r^3} y(t)\\hspace{0.75cm}\\&\\hspace{0.75cm}\\frac{d^2x}{dt^2}=\\frac{GM_{sun}}{r^3}x(t)$$\n",
    "\n",
    "In the instance of circular orbit the radius will be constant.\n",
    "\n",
    "Now that if we were to simply define some constant $\\omega ^2=GM_{sun}/r^3$ the equations above would perfectly mirror the simple example we worked earlier!  Solving this problem then becomes a simple matter of applying our RK4 solver twice.\n",
    "\n",
    "### Initial Conditions\n",
    "\n",
    "I will define my coordinates so that the planet at $t=0$ always begins at $x(0)=r$ and $y(0)=0$.  This also fixes the initial conditions for velocity to $v_x(0)=v_{max}$ and $v_y(0)=0$.  We can quickly carry out a bit of analysis to arrive at a reasonable estimate for $v_{max}$.\n",
    "\n",
    "For circular motion we have\n",
    "\n",
    "$$\\frac{mv^2}{r}=F_{centripital}$$\n",
    "\n",
    "For our particular system this becomes\n",
    "\n",
    "$$\\frac{M_{Earth}v^2}{r}=\\frac{GM_{Earth}M_{Sun}}{r^2}$$\n",
    "\n",
    "We can then solve this equation for velocity to obtain\n",
    "\n",
    "$$v=\\sqrt{\\frac{GM}{r}}$$\n",
    "\n",
    "Knowing that at t=0 all of our velocity is in the y direction we have obtained a suitable expression for estimating the initial velocity.\n",
    "\n",
    "### Units\n",
    "\n",
    "It's not just any solar system that we're looking at here, it's $\\textit{our}$ solar system.  It then only seems natural to measure distances in astronomical units (AU).  One AU is equal to the average distance between the sun and the Earth.  Also, it seems natural to measure time in years so that we get a nice round orbital period of 1.  In order for this to be the case it must be that $GM_{sun} = 2\\pi$.   \n",
    "\n",
    "With these considerations we should see a period of 1.  Also we must ensure that our algorithm is sufficiently accurate.  If we do not have the appropriate number of steps in our time interval we will lose velocity and the program will show the earth spiraling into the sun in a very short amount of time, which hopefully does not model reality!"
   ]
  },
  {
   "cell_type": "markdown",
   "metadata": {},
   "source": [
    "<a id=\"cell2.1\"></a>\n",
    "\n",
    "## 2.1 My Code\n",
    "\n",
    "Be sure to run the black containing the RK4 function [here](#cell1.3.1)."
   ]
  },
  {
   "cell_type": "code",
   "execution_count": 117,
   "metadata": {
    "collapsed": false
   },
   "outputs": [
    {
     "name": "stdout",
     "output_type": "stream",
     "text": [
      "\n"
     ]
    },
    {
     "data": {
      "image/png": "[encoded data removed]",
      "text/plain": [
       "<matplotlib.figure.Figure at 0x10ae86710>"
      ]
     },
     "metadata": {},
     "output_type": "display_data"
    }
   ],
   "source": [
    "#Although these parameters are available in the function cell above I found it more convenient to have them here.\n",
    "#THIS IS AN EXAMPLE WHERE HAVING A CLASS OR A FUNCTION JUST FOR THESE VECTORS WOULD BE HELPFUL\n",
    "'''\n",
    "^^^^^^^^^^^^^^^^^^^^^^^^^^^^^^^^^^^^^^^^^^^^^^\n",
    "CONSIDER THIS FOR LATER IN THE PROJECT\n",
    "^^^^^^^^^^^^^^^^^^^^^^^^^^^^^^^^^^^^^^^^^^^^^^\n",
    "'''\n",
    "\n",
    "#Define time interval & step size\n",
    "#Starting at t=0\n",
    "t_0=0;t_f=10\n",
    "n=100\n",
    "h=(t_f-t_0)/n\n",
    "\n",
    "#Vectorize time, position, and velocity\n",
    "t_vec=np.zeros(n)\n",
    "x_vec=np.zeros(n)\n",
    "y_vec=np.zeros(n)\n",
    "v_x_vec=np.zeros(n)\n",
    "v_y_vec=np.zeros(n)\n",
    "i=1\n",
    "while i<=n:\n",
    "    t_vec[i-1]=t_0+i*h\n",
    "    i=i+1\n",
    "\n",
    "#I am grouping the gravitational constant G in with the mass of the Sun to one constant GM\n",
    "#Because of the way we defined out GM=4pi**2 and r=1\n",
    "GM=2*math.pi**2;r=1\n",
    "\n",
    "#Initialize the equations from above\n",
    "def Vprime_x(x_in):\n",
    "    return -(GM/(r**3))*x_in\n",
    "def Vprime_y(y_in):\n",
    "    return -(GM/(r**3))*y_in\n",
    "\n",
    "#Specify our initial conditions for x, calculate y conditions\n",
    "t_0=0.0\n",
    "v_x0=v_x_vec[0]=0;x_0=x_vec[0]=r\n",
    "v_y0=v_y_vec[0]=math.sqrt(GM/r);y_0=y_vec[0]=0\n",
    "\n",
    "#Step 1 goes outside of loop\n",
    "RK4(Vprime_x,x_0,v_x0)\n",
    "x_vec[1]=p_out\n",
    "v_x_vec[1]=v_out\n",
    "\n",
    "RK4(Vprime_y,y_0,v_y0)\n",
    "y_vec[1]=p_out\n",
    "v_y_vec[1]=v_out\n",
    "\n",
    "#Now just loop, storing variables in array\n",
    "j=2\n",
    "while j < n:\n",
    "    RK4(Vprime_x,x_vec[j-1],v_x_vec[j-1])\n",
    "    x_vec[j]=p_out\n",
    "    v_x_vec[j]=v_out\n",
    "    \n",
    "    RK4(Vprime_y,y_vec[j-1],v_y_vec[j-1])\n",
    "    y_vec[j]=p_out\n",
    "    v_y_vec[j]=v_out\n",
    "    j=j+1\n",
    "\n",
    "#Plotting\n",
    "import warnings\n",
    "warnings.filterwarnings('ignore')\n",
    "from pylab import *\n",
    "%matplotlib inline\n",
    "fig = matplotlib.pyplot.gcf()\n",
    "fig.set_size_inches(10.0, 10.0)\n",
    "axes = plt.gca()\n",
    "\n",
    "'''\n",
    "-------------------------------------------------------------------\n",
    "To See a Particular Plot Simple Uncomment the Appropriate Section\n",
    "-------------------------------------------------------------------\n",
    "'''\n",
    "\n",
    "#Plot stuff\n",
    "#x&y positions in time\n",
    "title(\"Positions vs. Time 10-Cycle\")\n",
    "xlabel(\"t (years)\")\n",
    "ylabel(\"Radius (AU)\")\n",
    "axes.set_xlim([0,10])\n",
    "axes.set_ylim([-r,r])\n",
    "plot(t_vec,x_vec,label=\"x(t) = r*cos($\\omega t$)\")\n",
    "plot(t_vec,y_vec,label=\"y(t) = r*sin($\\omega t$)\")\n",
    "\n",
    "\n",
    "\n",
    "'''#x&y positions\n",
    "title(\"Y vs. X Positions 10-Cycles\")\n",
    "xlabel(\"X-Coordinate\")\n",
    "ylabel(\"Y-Coordinate\")\n",
    "axes.set_xlim([-(r+1),r+1])\n",
    "axes.set_ylim([-(r+1),r+1])\n",
    "plot(x_vec,y_vec,color=\"black\")\n",
    "'''\n",
    "\n",
    "\n",
    "'''#x&y Velocities vs. time\n",
    "title(\"Velocities vs. time 10-Cycles\")\n",
    "xlabel(\"time (years)\")\n",
    "ylabel(\"Velocity (AU/year)\")\n",
    "axes.set_xlim([0,10])\n",
    "axes.set_ylim([-math.sqrt(GM),math.sqrt(GM)])\n",
    "plot(t_vec,v_x_vec,label=\"V$_x$(t) = $\\omega$*sin($\\omega t$)\")\n",
    "plot(t_vec,v_y_vec,label=\"V$_y$(t) = $\\omega$*cos($\\omega t$)\")\n",
    "'''\n",
    "\n",
    "'''#x&y Velocities\n",
    "title(\"Velocities 10-Cycles\")\n",
    "xlabel(\"X-Velocity (AU/year)\")\n",
    "ylabel(\"Y-Velocity (AU/year)\")\n",
    "axes.set_xlim([-(math.sqrt(GM)+1),math.sqrt(GM)+1])\n",
    "axes.set_ylim([-(math.sqrt(GM)+1),math.sqrt(GM)+1])\n",
    "plot(v_x_vec,v_y_vec,color=\"black\")\n",
    "'''\n",
    "\n",
    "plt.legend(loc='upper left')\n",
    "plt.show\n",
    "#Suppress output from plotting section\n",
    "print(\"\")"
   ]
  },
  {
   "cell_type": "markdown",
   "metadata": {
    "collapsed": false
   },
   "source": [
    "<a id=\"cell2.2\"></a>\n",
    "## 2.2 Summary of Results From the Code Above\n",
    "\n",
    "| n=100000 $t_{max}$ = 10years| X&Y vs. Time 1-Cycle  | X&Y vs. Time 10-Cycles    | X vs. Y |\n",
    "|:-----------------|:----------:|:------------:|:----------:|\n",
    "| Position |<img src=\"Project3_pics/xy_time.png\"> | <img src=\"Project3_pics/xy_time_10.png\">|  <img src=\"Project3_pics/xy_10.png\">|\n",
    "| Velocity |<img src=\"Project3_pics/vx_vy_time.png\"> | <img src=\"Project3_pics/vx_vy_time_10.png\">|  <img src=\"Project3_pics/vx_vy_10.png\"> |"
   ]
  },
  {
   "cell_type": "markdown",
   "metadata": {
    "collapsed": true
   },
   "source": [
    "<a id=\"cell2.3\"></a>\n",
    "\n",
    "## ^^^^^^^^^^^^^^^^^^^^^^^^^^^^^^^^^^^^^^^^^^^\n",
    "## CODE REQUIRES DATA FROM THE CELL ABOVE\n",
    "\n",
    "## 2.3 Earth Sun Continued: Checking For Errors\n",
    "\n",
    "### Are our Results Any Good?\n",
    "We can see from the plots above that the RK4 solver  returns the correct solution.  Furthermore, we can see that this solution is indeeed stable in time.  Even if we plot the points from 10 cycles the orbit is still perfectly circular.  We also have our expected orbital period of 1 in both our position and velocity functions.  This suggests that the results I obtained are valid.\n",
    "\n",
    "### Further Checking:  Conserved Quantities\n",
    "The Earth-Sun System is free of external torque, and so must conserve angular momentum.  Additionally the velocity is constant and the planet lives a fixed distance from  its star.  These lead to conservation of Kinetic and potential energy respectively.  The quantities are defined as follows\n",
    "\n",
    "$\\textbf{Angular Momentum ($\\vec{L}$)}$\n",
    "$$\\vec{L} = \\vec{r} \\times {v}$$\n",
    "\n",
    "$\\textbf{Kinetic Energy E}$\n",
    "$$E = \\frac{1}{2}mv^2$$\n",
    "\n",
    "$\\textbf{Potential Energy U}$\n",
    "$$V = -\\frac{GM_{sun}M_{Earth}}{|r|}$$\n",
    "\n",
    "To prevent ourselves from having to carry out any unnecessary computation let's study carefully the formulae above.  Note that if $\\vec{r}$ and $\\vec{v}$ are constant then all of the quantities we have thus far mentioned are constant.  Well r is certainly constant here since we're assuming circular orbit (this is a simple example so I $\\textit{defined}$ it that way). "
   ]
  },
  {
   "cell_type": "code",
   "execution_count": 118,
   "metadata": {
    "collapsed": false
   },
   "outputs": [
    {
     "data": {
      "text/plain": [
       "[<matplotlib.lines.Line2D at 0x10a867668>]"
      ]
     },
     "execution_count": 118,
     "metadata": {},
     "output_type": "execute_result"
    },
    {
     "data": {
      "image/png": "[encoded data removed]",
      "text/plain": [
       "<matplotlib.figure.Figure at 0x10a867e48>"
      ]
     },
     "metadata": {},
     "output_type": "display_data"
    }
   ],
   "source": [
    "magv_vec=np.zeros(n)\n",
    "i=1\n",
    "while i<=n:\n",
    "    magv_vec[i-1]=((v_x_vec[i-1])**2+(v_y_vec[i-1])**2)\n",
    "    i=i+1\n",
    "    \n",
    "#x&y Velocities\n",
    "title(\"Velocities 10-Cycles n=100\")\n",
    "xlabel(\"Time (years)\")\n",
    "ylabel(\"Velocity (AU/year)\")\n",
    "axes.set_xlim([-(math.sqrt(GM)+1),math.sqrt(GM)+1])\n",
    "fig.set_size_inches(8.0, 8.0)\n",
    "plot(t_vec,magv_vec,color=\"black\")"
   ]
  },
  {
   "cell_type": "markdown",
   "metadata": {},
   "source": [
    "Alright so we can see that we are indeed losing a $\\textit{very}$ small amout of velocity with each cycle.  Afterall, this is an approximation.  Pay careful attention to the y-axis, otherwise you might think we're losing alot of velocity.  This may be due to the fact that in the solver the approximation for $x_{i+1}$ is only third order.\n",
    "\n",
    "We can show however, that the velocity is more and more constant as we increase the step size meaning that our algorithm should be accurate to whateve degree you want provided you have sufficient computational power."
   ]
  },
  {
   "cell_type": "markdown",
   "metadata": {},
   "source": [
    "<a id=\"cell3.0\"></a>\n",
    "## 3.0 Getting Classy\n",
    "\n",
    "Now I attempt to better organize the code I have written.  By employing classes and functions I will try to avoid having to copy and paste blocks of code that are repetative.\n",
    "\n",
    "### What Exactly are Classes??\n",
    "\n",
    "A class in python is very similar to a module.  It is used to store blocks of python code so that they can be accessed with the selction (.) operator.  For example, we can use a class to store all the information about the planets in our solar system.\n",
    "\n",
    "A class is a user-defined collection of objects.  The things linking objects in a class is that they have the same variable types. In the case of our planets these variables should be mass, x-position, x-velocity, y-position, and y-velocity.\n",
    "\n",
    "In order to use objects in a class you must first instantiate them.  That just means tell the program that they exist.  Then you should be able to access their properties with the selection operator.  Below I have made a simple example "
   ]
  },
  {
   "cell_type": "code",
   "execution_count": 82,
   "metadata": {
    "collapsed": false
   },
   "outputs": [
    {
     "data": {
      "text/plain": [
       "1"
      ]
     },
     "execution_count": 82,
     "metadata": {},
     "output_type": "execute_result"
    }
   ],
   "source": [
    "## I would like to store information about the planets here.\n",
    "class Planets(object):\n",
    "    'This is my first class, \\\n",
    "it stores information about the planets in our solar system.'\n",
    "    \n",
    "    def __init__(self,mass,pos_x,pos_y,vel_x,vel_y):\n",
    "        self.m = mass\n",
    "        self.x = pos_x\n",
    "        self.y = pos_y\n",
    "        self.vx = vel_x\n",
    "        self.vy = vel_y\n",
    "        \n",
    "#Read The Documentation \n",
    "#print(Planets.__doc__)\n",
    "        \n",
    "#Create Earth\n",
    "Earth = Planets(1,1,0,1,0)\n",
    "Earth.m        "
   ]
  },
  {
   "cell_type": "code",
   "execution_count": 34,
   "metadata": {
    "collapsed": false
   },
   "outputs": [],
   "source": [
    "'''\n",
    "-------------------------------\n",
    "Our Runge-Kutta Solver is here.\n",
    "-------------------------------\n",
    "'''\n",
    "def RK4(f,p_rk,v_rk):\n",
    "    global p_out,v_out\n",
    "    #Solve for the velocity\n",
    "    k1=h*f(p_rk)\n",
    "    k2=h*f(p_rk+k1/2)\n",
    "    k3=h*f(p_rk+k2/2)\n",
    "    k4=h*f(p_rk+k3)\n",
    "    v_out = v_rk+(k1+2*k2+2*k3+k4)/6\n",
    "    #Use velocity to solve for x at t=t+1\n",
    "    p_out=p_rk+h*v_out+(h**2/2)*f(p_rk)\n",
    "'''\n",
    "-------------------------------------\n",
    "A Function For Building the Vectors.\n",
    "-------------------------------------\n",
    "'''\n",
    "def Vectorize(step_num,step_size,t_start):\n",
    "    t_vec=np.zeros(step_num)\n",
    "    x_vec=np.zeros(step_num)\n",
    "    y_vec=np.zeros(step_num)\n",
    "    v_x_vec=np.zeros(step_num)\n",
    "    v_y_vec=np.zeros(step_num)\n",
    "    i=1\n",
    "    while i<=n:\n",
    "        t_vec[i-1]=t_start+i*step_size\n",
    "        i=i+1"
   ]
  },
  {
   "cell_type": "code",
   "execution_count": null,
   "metadata": {
    "collapsed": false
   },
   "outputs": [],
   "source": []
  },
  {
   "cell_type": "code",
   "execution_count": null,
   "metadata": {
    "collapsed": true
   },
   "outputs": [],
   "source": []
  }
 ],
 "metadata": {
  "kernelspec": {
   "display_name": "Python 3",
   "language": "python",
   "name": "python3"
  },
  "language_info": {
   "codemirror_mode": {
    "name": "ipython",
    "version": 3
   },
   "file_extension": ".py",
   "mimetype": "text/x-python",
   "name": "python",
   "nbconvert_exporter": "python",
   "pygments_lexer": "ipython3",
   "version": "3.5.0"
  }
 },
 "nbformat": 4,
 "nbformat_minor": 0
}
