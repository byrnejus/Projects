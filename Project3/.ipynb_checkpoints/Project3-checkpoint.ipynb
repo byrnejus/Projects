{
 "cells": [
  {
   "cell_type": "markdown",
   "metadata": {},
   "source": [
    "# Project 3: Modeling The Solar System\n",
    "### Robert Sutherland Computational Physics (PHY480), Michigan State University"
   ]
  },
  {
   "cell_type": "markdown",
   "metadata": {},
   "source": [
    "# Table of Contents\n",
    "\n",
    "[0.0 Wisdom From the Past](#cell0.0)\n",
    "\n",
    "[1.0 Construct the Solver: A Simple Example](#cell1.0)\n",
    "\n",
    "[1.1 Setting up the algorithm (a) RUN THIS CODE BEFORE ANY LATER SECTIONS](#cell1.1)\n",
    "\n",
    "[1.2 Theory Behind Runge-Kutta](#cell1.2)\n",
    "\n",
    "[1.3 Define RK4 for Later Use](#cell1.3)\n",
    "\n",
    "[2.0 Applying Runge Kutta: Earth-Sun System](#cell2.0)\n",
    "\n",
    "[2.1 Applying Runge Kutta: My Code](#cell2.1)"
   ]
  },
  {
   "cell_type": "markdown",
   "metadata": {
    "collapsed": true
   },
   "source": [
    "<a id=\"cell0.0\"></a>\n",
    "### 0.0 Learning From Previous Projects\n",
    "\n",
    "I noticed in project 1 and 2 that I ended up copying a lot of code only to make slight modifications.  That process is effective, but it's really sloppy and I think it makes my reports look a little less professional.  I would like to take advantage of the object-orientation in this project to create blocks of code which I can call when I need them.  This should reduce the length of my report and make it more readable.\n",
    "\n",
    "I should put all of my imports in one header box of code so I don't have to use them over and over and I should encase my RK4 solver in it's own box as well and just call it when I need it.\n",
    "\n",
    "I found this super cool matplotlib reference page:\n",
    "http://www.scipy-lectures.org/intro/matplotlib/matplotlib.html\n",
    "\n",
    "Lastly I am tring a different approach here inspired by a quote from Sanjoy Mahajan's $\\textit{Street-Fighting Mathematics}$: \n",
    "\n",
    "$\\textbf{\"To much mathematical rigor leads to rigor-mortis, the fear to make an unjustified leap.\"}$  \n",
    "\n",
    "I feel I spent too much time on preliminary theory and in the interest of finals-deadline-rush I will just dive straight into the code and worry about the theory later."
   ]
  },
  {
   "cell_type": "markdown",
   "metadata": {},
   "source": [
    "<a id=\"cell1.0\"></a>\n",
    "## 1.0 A Simple Example Using the Runge-Kutta 4 Solver\n",
    "\n",
    "Here we will call upon the Runge-Kutta 4 solver to solve the equation for Hooke's law, which describes a mass on a spring.\n",
    "\n",
    "$$m\\frac{d^2x}{dt^2}=-kx(t)\\hspace{1.5cm}(1)$$\n",
    "\n",
    "We chose this equation because the analytical solution is know and can be arrived at fairly easily with some basic calculus.  In order to solve eq(1) we can rewrite it in a more suggestive form.\n",
    "\n",
    "$$\\frac{d^2x}{dt^2}=-\\frac{k}{m}x(t)\\hspace{1.5cm}(2)$$\n",
    "\n",
    "Following tradition we define $\\omega=\\sqrt{k/m}$.  eq(2) then becomes\n",
    "\n",
    "$$\\frac{d^2x}{dt^2}=-\\omega^2x(t)\\hspace{1.5cm}(3)$$\n",
    "\n",
    "which lends itself nicely to a solutions of the form $x=Asin(\\omega t+\\phi)$ or $Acos(\\omega t+\\phi)$.  For our particular case, let's set the phase constant $\\phi=0$ and further impose the condition that x(0) = 0.  This fixes our solution to \n",
    "\n",
    "$$x(t)=Asin(\\omega t)$$\n",
    "\n",
    "The velocity is also fairly obvious...\n",
    "\n",
    "$$v(t)=\\omega Acos(\\omega t)$$\n",
    "\n",
    "Invoking a little bit of physical foresight I would like to write\n",
    "\n",
    "$$v(t)=V_0cos(\\omega t)$$\n",
    "\n",
    "I will write eq(1) in terms of velocity so that the problem we attempt can be first order.  Just to be clear our initial goal will be to solve for the $\\textit{velocity}$, then we can use the velocity and the time step to get our new value for x and iterate.\n",
    "\n",
    "$$v'(t)=-\\omega^2x(t)\\hspace{1.5cm}(4)$$\n",
    "\n",
    "In the following cell I will attempt now to arrive at the same solutions for the velocity and position using the Runge-Kutta 4 methods discussed in lecture and in section 8.4 of the lecture notes.  I define $A$ and $\\omega$ so that the function has a period of $2\\pi$.  So we have the parameters \n",
    "\n",
    "$$A=1 \\hspace{1.5cm} \\omega=1$$\n",
    "\n",
    "I will also stick with the initial conditions discussed here in my code."
   ]
  },
  {
   "cell_type": "markdown",
   "metadata": {},
   "source": [
    "<a id=\"cell1.1\"></a>\n",
    "## Setting Up the Algorithm"
   ]
  },
  {
   "cell_type": "code",
   "execution_count": 25,
   "metadata": {
    "collapsed": false
   },
   "outputs": [
    {
     "name": "stdout",
     "output_type": "stream",
     "text": [
      "\n"
     ]
    },
    {
     "data": {
      "image/png": "[encoded data removed]",
      "text/plain": [
       "<matplotlib.figure.Figure at 0x107a52978>"
      ]
     },
     "metadata": {},
     "output_type": "display_data"
    }
   ],
   "source": [
    "from array import *\n",
    "import math \n",
    "import numpy as np\n",
    "\n",
    "'''\n",
    "Let n be the number of steps\n",
    "t_0 and t_f represent initial and final times respectively\n",
    "The step size h is then (t_f-t_0)/n\n",
    "\n",
    "Also, I am going to try following Mathematica's Convention\n",
    "of marking functions with capitals\n",
    "'''\n",
    "#Define time interval & step size\n",
    "#Starting at t=0\n",
    "t_0=0;t_f=2*math.pi\n",
    "n=1000\n",
    "h=(t_f-t_0)/n\n",
    "\n",
    "#Vectorize time, position, and velocity\n",
    "t_vec=np.zeros(n)\n",
    "x_vec=np.zeros(n)\n",
    "v_x_vec=np.zeros(n)\n",
    "i=1\n",
    "while i<=n:\n",
    "    t_vec[i-1]=t_0+i*h\n",
    "    i=i+1\n",
    "#print(t_vec)\n",
    "\n",
    "\n",
    "#Set the value of omega (w) and A, for convenience both are 1 by default\n",
    "w=1;A=1\n",
    "#Initialize eq(4)\n",
    "def Vprime_x(x_in):\n",
    "    return -w**2*A*x_in\n",
    "\n",
    "#Specify our initial conditions v_0=A\n",
    "x_0=0\n",
    "v_x0=A\n",
    "v_x_vec[0]=v_x0;x_vec[0]=0;t_0=0.0\n",
    "'''\n",
    "-------------------------------\n",
    "Our Runge-Kutta Solver is here.\n",
    "-------------------------------\n",
    "'''\n",
    "def RK4(f,x_rk,v_rk):\n",
    "    global x,v_x\n",
    "    #Solve for the velocity\n",
    "    k1=h*f(x_rk)\n",
    "    k2=h*f(x_rk+k1/2)\n",
    "    k3=h*f(x_rk+k2/2)\n",
    "    k4=h*f(x_rk+k3)\n",
    "    v_x = v_rk+(k1+2*k2+2*k3+k4)/6\n",
    "    #Use velocity to solve for x at t=t+1\n",
    "    x=x_rk+h*v_x+(h**2/2)*f(v_rk)\n",
    "\n",
    "#Step 1 goes outside of loop\n",
    "RK4(Vprime_x,x_0,v_x0)\n",
    "x_vec[1]=x\n",
    "v_x_vec[1]=v_x\n",
    "\n",
    "#Now just loop, storing variables in array\n",
    "j=2\n",
    "while j < n:\n",
    "    RK4(Vprime_x,x_vec[j-1],v_x_vec[j-1])\n",
    "    x_vec[j]=x\n",
    "    v_x_vec[j]=v_x\n",
    "    #print(x,v_x)\n",
    "    j=j+1\n",
    "\n",
    "#Plotting\n",
    "from pylab import *\n",
    "%matplotlib inline\n",
    "xlabel(\"t\")\n",
    "ylabel(\"\")\n",
    "axes = plt.gca()\n",
    "axes.set_xlim([0,2*math.pi])\n",
    "plt.xticks([0, np.pi/2, np.pi, 3*np.pi/2, 2*np.pi],\n",
    "           [r'$0$', r'$\\pi/2$', r'$\\pi$', r'$3\\pi/2$', r'$2\\pi$'])\n",
    "axes.set_ylim([-A,A])\n",
    "title(\" \")\n",
    "#You can add a plot legend instead of just hacking one into the title\n",
    "plot(t_vec,v_x_vec,label=\"v(t)=$\\omega$Asin($\\omega t$)\")\n",
    "plot(t_vec,x_vec,label=\"x(t)=$A$sin($\\omega t$)\")\n",
    "plt.legend(loc='upper left')\n",
    "#Suppress output from plotting section\n",
    "print(\"\")"
   ]
  },
  {
   "cell_type": "markdown",
   "metadata": {
    "collapsed": false
   },
   "source": [
    "<a id=\"cell1.2\"></a>\n",
    "## Runge-Kutta 4 Function\n",
    "\n",
    "Alright!  So we can see clearly from the plot above that the solver is working properly.  Now that we have the pragmatism out of the way, it's worth presenting a theoretical overview of how and why the above solver actually works.  This section follows the lecture notes closely so if you've already read them (or if you've written them) there's no need to read this.\n",
    "\n",
    "### The Basic Idea \n",
    "Following the example in the lecture notes we consider a simple and general case of the form\n",
    "\n",
    "$$\\frac{dy}{dt}=f(y,t)$$\n",
    "\n",
    "Being physicists, we fall back upon our favorite approximation tool, the taylor expansion, which for some arbitrary function f(y) looks like\n",
    "\n",
    "$$f(y) = \\sum_{n=0}^{\\infty}\\frac{f^{(n)}(y)}{n!}(y-a)^n$$\n",
    "\n",
    "Using this idea we can express y' above as\n",
    "\n",
    "$$y'_{i+1} \\approx y'_i + hf(y_i,t_i)$$\n",
    "\n",
    "Where y'_i, y_i, and t_i are all specified by initial conditions.  Now let c1 be $hf(y,t)$ at any step.  The equation above is now\n",
    "\n",
    "$$y_{i+1} \\approx y_i + (c1)_i$$\n",
    "\n",
    "We can then use our c1 to correct our approximation by interpolating a point in between $y_i$ and $y_{i+1}$.  We thus define c2 \n",
    "\n",
    "$$c2 = hf(y_{i+1/2},t_{i+1/2}) = hf(y_i + c1/2,t_{i+1/2})$$\n",
    "\n",
    "Now we can say that \n",
    "\n",
    "$$y_{i+1} = y_i + c2$$\n",
    "\n",
    "### The Fourth Order \n",
    "So far the method we have discussed represents a second order correction.  The Runge-Kutta4 method is so named because it's corrections are fourth order.  The algorithm is actually marvelously simple (even simpler I think than either of the previous projects, but maybe I'm just getting better at this stuff).\n",
    "\n",
    "To take this approach out to forth order we need only apply Simpson's formula\n",
    "\n",
    "$$\\int_{t_i}^{t_{i+1}}f(y,t)dt \\approx \\frac{h}{6}[f(y_i,t_i)+4f(y_{i+1/2},t_{i+1/2})+f(y_{i+1},t_{i+1})]$$\n",
    "\n",
    "We simply split the middle step evaluation into two pieces and get \n",
    "\n",
    "$$\\int_{t_i}^{t_{i+1}}f(y,t)dt \\approx \\frac{h}{6} [f(y_i,t_i)+2f(y_{i+1/2},t_{i+1/2})+2f(y_{i+1/2},t_{i+1/2})+f(y_{i+1},t_{i+1})]$$\n",
    "\n",
    "In therms of the variables in the code above we now have simpson's formula as\n",
    "\n",
    "$$\\int_{t_i}^{t_{i+1}}f(y,t)dt \\approx\\frac{h}{6}[k1+2k2+2k3+k4]$$\n",
    "\n",
    "and that's really all there is to it, the rest can be seen clearly from the program."
   ]
  },
  {
   "cell_type": "markdown",
   "metadata": {},
   "source": [
    "<a id=\"cell1.3\"></a>\n",
    "## Define RK4 Function\n",
    "\n",
    "Here I am defining everything that will be used repeatedly throughout this code, then we avoid having to copy-paste.  If you want to edit the time interval, you will either have to do it here or you will have to recreate the time vector in your code block."
   ]
  },
  {
   "cell_type": "code",
   "execution_count": 5,
   "metadata": {
    "collapsed": false
   },
   "outputs": [],
   "source": [
    "#Let's put everything we'll need to import in one cell this time\n",
    "from array import *\n",
    "import math \n",
    "import numpy as np\n",
    "\n",
    "#Define time interval & step size\n",
    "#Starting at t=0\n",
    "t_0=0;t_f=2*math.pi\n",
    "n=1000\n",
    "h=(t_f-t_0)/n\n",
    "\n",
    "'''\n",
    "-------------------------------\n",
    "Our Runge-Kutta Solver is here.\n",
    "-------------------------------\n",
    "'''\n",
    "def RK4(f,x_rk,v_rk):\n",
    "    global x,v_x\n",
    "    #Solve for the velocity\n",
    "    k1=h*f(x_rk)\n",
    "    k2=h*f(x_rk+k1/2)\n",
    "    k3=h*f(x_rk+k2/2)\n",
    "    k4=h*f(x_rk+k3)\n",
    "    v_x = v_rk+(k1+2*k2+2*k3+k4)/6\n",
    "    #Use velocity to solve for x at t=t+1\n",
    "    x=x_rk+h*v_x+(h**2/2)*f(v_rk)\n",
    "    \n",
    "#Vectorize time, position, and velocity\n",
    "t_vec=np.zeros(n)\n",
    "x_vec=np.zeros(n)\n",
    "y_vec=np.zeros(n)\n",
    "v_x_vec=np.zeros(n)\n",
    "v_y_vec=np.zeros(n)\n",
    "i=1\n",
    "while i<=n:\n",
    "    t_vec[i-1]=t_0+i*h\n",
    "    i=i+1"
   ]
  },
  {
   "cell_type": "markdown",
   "metadata": {
    "collapsed": false
   },
   "source": [
    "<a id=\"cell2.0\"></a>\n",
    "\n",
    "## Applying RK4: Earth-Sun System\n",
    "\n",
    "### The Problem \n",
    "\n",
    "We begin our models of the solar system by considering simply the Earth-Sun system.  In this instance we assume circular orbit.  This makes the analytical solution easily attainable and allows us to check our code.  In fact, the analytical solution for this case is essentially identical to what we get for Hooke's Law above.\n",
    "\n",
    "In our case we are asked to consider only 2 spacial dimensions and so have the following two equations describing our system\n",
    "\n",
    "$$\\frac{d^2y}{dt^2}=\\frac{GM_{sun}}{r^2} sin(\\omega t)\\hspace{0.75cm}\\&\\hspace{0.75cm}\\frac{d^2x}{dt^2}=\\frac{GM_{sun}}{r^2}cos(\\omega t)$$\n",
    "\n",
    "Casting everything in cartesian terms gives\n",
    "$$\\frac{d^2y}{dt^2}=\\frac{GM_{sun}}{r^3} y(t)\\hspace{0.75cm}\\&\\hspace{0.75cm}\\frac{d^2x}{dt^2}=\\frac{GM_{sun}}{r^3}x(t)$$\n",
    "\n",
    "In the instance of circular orbit the radius will be constant.\n",
    "\n",
    "Now that if we were to simply define some constant $\\omega ^2=GM_{sun}/r^3$ the equations above would perfectly mirror the simple example we worked earlier!  Solving this problem then becomes a simple matter of applying our RK4 solver twice.\n",
    "\n",
    "### Initial Conditions\n",
    "\n",
    "I will define my coordinates so that the planet at $t=0$ always begins at $x(0)=r$ and $y(0)=0$.  This also fixes the initial conditions for velocity to $v_x(0)=v_{max}$ and $v_y(0)=0$.  We can quickly carry out a bit of analysis to arrive at a reasonable estimate for $v_{max}$.\n",
    "\n",
    "For circular motion we have\n",
    "\n",
    "$$\\frac{mv^2}{r}=F_{centripital}$$\n",
    "\n",
    "For our particular system this becomes\n",
    "\n",
    "$$\\frac{M_{Earth}v^2}{r}=\\frac{GM_{Earth}M_{Sun}}{r^2}$$\n",
    "\n",
    "We can then solve this equation for velocity to obtain\n",
    "\n",
    "$$v=\\sqrt{\\frac{GM}{r}}$$\n",
    "\n",
    "Knowing that at t=0 all of our velocity is in the y direction we have obtained a suitable expression for estimating the initial velocity.\n",
    "\n",
    "### Units"
   ]
  },
  {
   "cell_type": "markdown",
   "metadata": {},
   "source": [
    "<a id=\"cell2.1\"></a>"
   ]
  },
  {
   "cell_type": "code",
   "execution_count": 20,
   "metadata": {
    "collapsed": false
   },
   "outputs": [
    {
     "name": "stdout",
     "output_type": "stream",
     "text": [
      "\n"
     ]
    },
    {
     "data": {
      "image/png": "[encoded data removed]",
      "text/plain": [
       "<matplotlib.figure.Figure at 0x1014a4a58>"
      ]
     },
     "metadata": {},
     "output_type": "display_data"
    }
   ],
   "source": [
    "#I am grouping the gravitational constant G in with the mass of the Sun to one constant GM\n",
    "#Because of the way we defined out GM=4pi**2 and r=1\n",
    "GM=4*math.pi**2;r=1\n",
    "\n",
    "#Initialize the equations from above\n",
    "def Vprime_x(x_in):\n",
    "    return (GM/r**3)*x_in\n",
    "def Vprime_y(y_in):\n",
    "    return (GM/r**3)*y_in\n",
    "\n",
    "#Specify our initial conditions for x, calculate y conditions\n",
    "v_x_vec[0]=math.sqrt(GM/r);x_0=x_vec[0]=1;t_0=0.0\n",
    "\n",
    "#Step 1 goes outside of loop\n",
    "RK4(Vprime_x,x_0,v_x0)\n",
    "x_vec[1]=x\n",
    "v_x_vec[1]=v_x\n",
    "\n",
    "#Now just loop, storing variables in array\n",
    "j=2\n",
    "while j < n:\n",
    "    RK4(Vprime_x,x_vec[j-1],v_x_vec[j-1])\n",
    "    x_vec[j]=x\n",
    "    v_x_vec[j]=v_x\n",
    "    #print(x,v_x)\n",
    "    j=j+1\n",
    "\n",
    "#Plotting\n",
    "from pylab import *\n",
    "%matplotlib inline\n",
    "xlabel(\"t\")\n",
    "ylabel(\"\")\n",
    "axes = plt.gca()\n",
    "axes.set_xlim([0,2*math.pi])\n",
    "plt.xticks([0, np.pi/2, np.pi, 3*np.pi/2, 2*np.pi],\n",
    "           [r'$0$', r'$\\pi/2$', r'$\\pi$', r'$3\\pi/2$', r'$2\\pi$'])\n",
    "axes.set_ylim([-A,A])\n",
    "title(\" \")\n",
    "#You can add a plot legend instead of just hacking one into the title\n",
    "plot(t_vec,v_x_vec,label=\"v$_x$(t)=$\\sqrt{GM/r}$y(t)\")\n",
    "plot(t_vec,x_vec,label=\"x(t)=$A$sin($\\omega t$)\")\n",
    "plt.legend(loc='upper left')\n",
    "#Suppress output from plotting section\n",
    "print(\"\")"
   ]
  },
  {
   "cell_type": "code",
   "execution_count": null,
   "metadata": {
    "collapsed": true
   },
   "outputs": [],
   "source": []
  }
 ],
 "metadata": {
  "kernelspec": {
   "display_name": "Python 3",
   "language": "python",
   "name": "python3"
  },
  "language_info": {
   "codemirror_mode": {
    "name": "ipython",
    "version": 3
   },
   "file_extension": ".py",
   "mimetype": "text/x-python",
   "name": "python",
   "nbconvert_exporter": "python",
   "pygments_lexer": "ipython3",
   "version": "3.5.0"
  }
 },
 "nbformat": 4,
 "nbformat_minor": 0
}
