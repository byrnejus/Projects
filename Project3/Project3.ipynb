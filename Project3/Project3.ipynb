{
 "cells": [
  {
   "cell_type": "markdown",
   "metadata": {},
   "source": [
    "# Project 3: Modeling The Solar System\n",
    "### A colaborative effort of Robert Sutherland, Justin Byrne, Josh Milem, Computational Physics (PHY480), Michigan State University"
   ]
  },
  {
   "cell_type": "markdown",
   "metadata": {},
   "source": [
    "# Table of Contents"
   ]
  },
  {
   "cell_type": "markdown",
   "metadata": {
    "collapsed": true
   },
   "source": [
    "### Learning From Previous Projects\n",
    "\n",
    "I noticed in project 1 and 2 that I ended up copying a lot of code only to make slight modifications.  That process is effective, but it's really sloppy and I think it makes my reports look a little less professional.  I would like to take advantage of the object-orientation in this project to create blocks of code which I can call when I need them.  This should reduce the length of my report and make it more readable.\n",
    "\n",
    "Also, I should put all of my imports in one header box of code so I don't have to use them over and over and I should encase my RK4 solver in it's own box as well and just call it when I need it.\n",
    "\n",
    "Also, I found this super cool matplotlib reference page:\n",
    "http://www.scipy-lectures.org/intro/matplotlib/matplotlib.html"
   ]
  },
  {
   "cell_type": "markdown",
   "metadata": {},
   "source": [
    "## Preliminary Theory\n"
   ]
  },
  {
   "cell_type": "markdown",
   "metadata": {},
   "source": [
    "## A Simple Example Using the Runge-Kutta 4 Solver\n",
    "\n",
    "Here we will call upon the Runge-Kutta 4 solver to solve the equation for Hooke's law, which describes a mass on a spring.\n",
    "\n",
    "$$m\\frac{d^2x}{dt^2}=-kx(t)\\hspace{1.5cm}(1)$$\n",
    "\n",
    "We chose this equation because the analytical solution is know and can be arrived at fairly easily with some basic calculus.  In order to solve eq(1) we can rewrite it in a more suggestive form.\n",
    "\n",
    "$$\\frac{d^2x}{dt^2}=-\\frac{k}{m}x(t)\\hspace{1.5cm}(2)$$\n",
    "\n",
    "Following tradition we define $\\omega=\\sqrt{k/m}$.  eq(2) then becomes\n",
    "\n",
    "$$\\frac{d^2x}{dt^2}=-\\omega^2x(t)\\hspace{1.5cm}(3)$$\n",
    "\n",
    "which lends itself nicely to a solutions of the form $x=Asin(\\omega t+\\phi)$ or $Acos(\\omega t+\\phi)$.  For our particular case, let's set the phase constant $\\phi=0$ and further impose the condition that x(0) = 0.  This fixes our solution to \n",
    "\n",
    "$$x(t)=Asin(\\omega t)$$\n",
    "\n",
    "The velocity is also fairly obvious...\n",
    "\n",
    "$$v(t)=\\omega Acos(\\omega t)$$\n",
    "\n",
    "Invoking a little bit of physical foresight I would like to write\n",
    "\n",
    "$$v(t)=V_0cos(\\omega t)$$\n",
    "\n",
    "I will write eq(1) in terms of velocity so that the problem we attempt can be first order.  Just to be clear our initial goal will be to solve for the $\\textit{velocity}$, then we can use the velocity and the time step to get our new value for x and iterate.\n",
    "\n",
    "$$v'(t)=-\\omega^2x(t)\\hspace{1.5cm}(4)$$\n",
    "\n",
    "In the following cell I will attempt now to arrive at the same solutions for the velocity and position using the Runge-Kutta 4 methods discussed in lecture and in section 8.4 of the lecture notes.  I define $A$ and $\\omega$ so that the function has a period of $2\\pi$.  So we have the parameters \n",
    "\n",
    "$$A=1 \\hspace{1.5cm} \\omega=1$$\n",
    "\n",
    "I will also stick with the initial conditions discussed here in my code."
   ]
  },
  {
   "cell_type": "code",
   "execution_count": 2,
   "metadata": {
    "collapsed": true
   },
   "outputs": [],
   "source": [
    "#Let's put everything we'll need to import in one cell this time\n",
    "from array import *\n",
    "import math \n",
    "import numpy as np"
   ]
  },
  {
   "cell_type": "code",
   "execution_count": 56,
   "metadata": {
    "collapsed": false
   },
   "outputs": [
    {
     "name": "stdout",
     "output_type": "stream",
     "text": [
      "\n"
     ]
    },
    {
     "data": {
      "image/png": "[encoded data removed]",
      "text/plain": [
       "<matplotlib.figure.Figure at 0x107a730b8>"
      ]
     },
     "metadata": {},
     "output_type": "display_data"
    }
   ],
   "source": [
    "'''\n",
    "Let n be the number of steps\n",
    "t_0 and t_f represent initial and final times respectively\n",
    "The step size h is then (t_f-t_0)/n\n",
    "\n",
    "Also, I am going to try following Mathematica's Convention\n",
    "of marking functions with capitals\n",
    "'''\n",
    "#Define time interval & step size\n",
    "#Starting at t=0\n",
    "t_0=0;t_f=2*math.pi\n",
    "n=1000\n",
    "h=(t_f-t_0)/n\n",
    "\n",
    "#Vectorize time, position, and velocity\n",
    "t_vec=np.zeros(n)\n",
    "x_vec=np.zeros(n)\n",
    "v_x_vec=np.zeros(n)\n",
    "i=1\n",
    "while i<=n:\n",
    "    t_vec[i-1]=t_0+i*h\n",
    "    i=i+1\n",
    "#print(t_vec)\n",
    "\n",
    "\n",
    "#Set the value of omega (w) and A, for convenience both are 1 by default\n",
    "w=1;A=1\n",
    "#Initialize eq(4)\n",
    "def Vprime_x(x_in):\n",
    "    return -w**2*A*x_in\n",
    "\n",
    "#Specify our initial conditions v_0=A\n",
    "v_x_vec[0]=x_0=0;x_vec[0]=v_x0=A;t_0=0.0\n",
    "\n",
    "\n",
    "'''\n",
    "-------------------------------\n",
    "Our Runge-Kutta Solver is here.\n",
    "-------------------------------\n",
    "'''\n",
    "def RK4(f,x_rk,v_rk):\n",
    "    global x,v_x\n",
    "    #Solve for the velocity\n",
    "    k1=h*f(x_rk)\n",
    "    k2=h*f(x_rk+k1/2)\n",
    "    k3=h*f(x_rk+k2/2)\n",
    "    k4=h*f(x_rk+k3)\n",
    "    v_x = v_rk+(k1+2*k2+2*k3+k4)/6\n",
    "    #Use velocity to solve for x at t=t+1\n",
    "    x=x_rk+h*v_x+(h**2/2)*f(v_rk)\n",
    "\n",
    "#Step 1 goes outside of loop\n",
    "RK4(Vprime_x,x_0,v_x0)\n",
    "x_vec[1]=x\n",
    "v_x_vec[1]=v_x\n",
    "\n",
    "#Now just loop, storing variables in array\n",
    "j=2\n",
    "while j < n:\n",
    "    RK4(Vprime_x,x_vec[j-1],v_x_vec[j-1])\n",
    "    x_vec[j]=x\n",
    "    v_x_vec[j]=v_x\n",
    "    #print(x,v_x)\n",
    "    j=j+1\n",
    "\n",
    "#Plotting\n",
    "from pylab import *\n",
    "%matplotlib inline\n",
    "xlabel(\"t\")\n",
    "ylabel(\"\")\n",
    "axes = plt.gca()\n",
    "axes.set_xlim([0,2*math.pi])\n",
    "plt.xticks([0, np.pi/2, np.pi, 3*np.pi/2, 2*np.pi],\n",
    "           [r'$0$', r'$\\pi/2$', r'$\\pi$', r'$3\\pi/2$', r'$2\\pi$'])\n",
    "axes.set_ylim([-A,A])\n",
    "title(\" \")\n",
    "#You can add a plot legend instead of just hacking one into the title\n",
    "plot(t_vec,v_x_vec,label=\"v(t)=$\\omega$Asin($\\omega t$)\")\n",
    "plot(t_vec,x_vec,label=\"x(t)=$A$cos($\\omega t$)\")\n",
    "plt.legend(loc='upper left')\n",
    "#Suppress output from plotting section\n",
    "print(\"\")"
   ]
  },
  {
   "cell_type": "markdown",
   "metadata": {
    "collapsed": false
   },
   "source": [
    "## Runge-Kutta 4 Function\n",
    "\n",
    "Alright!  So we can see clearly from the plot above that the solver is working properly.  Now that we have the pragmatism out of the way, it's worth giving a theoretical overview of how and why the above solver actually works."
   ]
  },
  {
   "cell_type": "code",
   "execution_count": null,
   "metadata": {
    "collapsed": false
   },
   "outputs": [],
   "source": []
  },
  {
   "cell_type": "code",
   "execution_count": null,
   "metadata": {
    "collapsed": true
   },
   "outputs": [],
   "source": []
  }
 ],
 "metadata": {
  "kernelspec": {
   "display_name": "Python 3",
   "language": "python",
   "name": "python3"
  },
  "language_info": {
   "codemirror_mode": {
    "name": "ipython",
    "version": 3
   },
   "file_extension": ".py",
   "mimetype": "text/x-python",
   "name": "python",
   "nbconvert_exporter": "python",
   "pygments_lexer": "ipython3",
   "version": "3.5.0"
  }
 },
 "nbformat": 4,
 "nbformat_minor": 0
}
